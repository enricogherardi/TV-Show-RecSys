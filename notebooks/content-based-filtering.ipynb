{
  "nbformat": 4,
  "nbformat_minor": 0,
  "metadata": {
    "anaconda-cloud": {},
    "colab": {
      "name": "content-based-filtering.ipynb",
      "provenance": [],
      "collapsed_sections": [
        "DR946bqUcKWm",
        "Xnr-H41ecKWm",
        "M8QY1F_0cKXC",
        "7Mt2OcbmcKXD",
        "itn6gdg8cKXN",
        "NhML5y0XcKXO"
      ]
    },
    "kernelspec": {
      "display_name": "Python 3",
      "language": "python",
      "name": "python3"
    },
    "language_info": {
      "codemirror_mode": {
        "name": "ipython",
        "version": 3
      },
      "file_extension": ".py",
      "mimetype": "text/x-python",
      "name": "python",
      "nbconvert_exporter": "python",
      "pygments_lexer": "ipython3",
      "version": "3.8.8"
    }
  },
  "cells": [
    {
      "cell_type": "markdown",
      "metadata": {
        "id": "KgBtvEcpcKWF"
      },
      "source": [
        "# Content Based recommenders"
      ]
    },
    {
      "cell_type": "markdown",
      "metadata": {
        "id": "cD74I0uUi4zi"
      },
      "source": [
        "### Load the data"
      ]
    },
    {
      "cell_type": "code",
      "metadata": {
        "colab": {
          "base_uri": "https://localhost:8080/"
        },
        "id": "sQth8FbGh5bW",
        "outputId": "c2e4f99b-9044-45e3-c0b9-8d9f4181952e"
      },
      "source": [
        "from google.colab import drive \n",
        "drive.mount('/content/gdrive')"
      ],
      "execution_count": 1,
      "outputs": [
        {
          "output_type": "stream",
          "name": "stdout",
          "text": [
            "Mounted at /content/gdrive\n"
          ]
        }
      ]
    },
    {
      "cell_type": "code",
      "metadata": {
        "id": "AvxjnGpLZijh"
      },
      "source": [
        "recsys_path = \"/content/gdrive/MyDrive/recsys/\"\n",
        "data_path = recsys_path + 'data/'\n",
        "data_train_path = data_path + \"data_train.csv\""
      ],
      "execution_count": 3,
      "outputs": []
    },
    {
      "cell_type": "code",
      "metadata": {
        "id": "nBFp8uKtGKlu"
      },
      "source": [
        "import os\n",
        "import pandas as pd\n",
        "\n",
        "# create folders and load data from github\n",
        "if not os.path.exists(data_path):\n",
        "    os.makedirs(data_path)\n",
        "    os.chdir(recsys_path)\n",
        "    !git clone https://github.com/fulcus/recommender-systems-challenge.git\n",
        "    !mv recommender-systems-challenge/data data\n",
        "    !rm -rf recommender-systems-challenge\n",
        "\n",
        "# clone course repository\n",
        "nb_folder = recsys_path + 'notebooks/'\n",
        "lib_folder = nb_folder + 'RecSys_Course_AT_PoliMi/'\n",
        "if not os.path.exists(lib_folder):\n",
        "    if not os.path.exists(nb_folder):\n",
        "        os.makedirs(nb_folder)\n",
        "    os.chdir(nb_folder)\n",
        "    !git clone https://github.com/MaurizioFD/RecSys_Course_AT_PoliMi.git\n",
        "  \n",
        "#os.chdir(recsys_path)\n",
        "os.chdir(lib_folder)"
      ],
      "execution_count": 4,
      "outputs": []
    },
    {
      "cell_type": "code",
      "metadata": {
        "colab": {
          "base_uri": "https://localhost:8080/"
        },
        "id": "hPQrU8pcVKsq",
        "outputId": "b15d49cc-662d-47d5-eebb-f00ea4b0a688"
      },
      "source": [
        "!pwd "
      ],
      "execution_count": 5,
      "outputs": [
        {
          "output_type": "stream",
          "name": "stdout",
          "text": [
            "/content/gdrive/.shortcut-targets-by-id/1F99a6Mxk92tXCvA98E76ZU8_XrJXqC4L/recsys/notebooks/RecSys_Course_AT_PoliMi\n"
          ]
        }
      ]
    },
    {
      "cell_type": "code",
      "metadata": {
        "id": "0LASVpz_iC0i",
        "colab": {
          "base_uri": "https://localhost:8080/",
          "height": 352
        },
        "outputId": "892f69ac-c902-41de-8c17-5603db228d59"
      },
      "source": [
        "URM_all_dataframe = pd.read_csv(data_train_path,\n",
        "                                dtype={0:int, 1:int, 2:int})\n",
        "URM_all_dataframe.columns = [\"UserID\", \"ItemID\", \"Interaction\"]\n",
        "\n",
        "URM_all_dataframe.head(10)"
      ],
      "execution_count": 6,
      "outputs": [
        {
          "output_type": "execute_result",
          "data": {
            "text/html": [
              "<div>\n",
              "<style scoped>\n",
              "    .dataframe tbody tr th:only-of-type {\n",
              "        vertical-align: middle;\n",
              "    }\n",
              "\n",
              "    .dataframe tbody tr th {\n",
              "        vertical-align: top;\n",
              "    }\n",
              "\n",
              "    .dataframe thead th {\n",
              "        text-align: right;\n",
              "    }\n",
              "</style>\n",
              "<table border=\"1\" class=\"dataframe\">\n",
              "  <thead>\n",
              "    <tr style=\"text-align: right;\">\n",
              "      <th></th>\n",
              "      <th>UserID</th>\n",
              "      <th>ItemID</th>\n",
              "      <th>Interaction</th>\n",
              "    </tr>\n",
              "  </thead>\n",
              "  <tbody>\n",
              "    <tr>\n",
              "      <th>0</th>\n",
              "      <td>0</td>\n",
              "      <td>53</td>\n",
              "      <td>1</td>\n",
              "    </tr>\n",
              "    <tr>\n",
              "      <th>1</th>\n",
              "      <td>0</td>\n",
              "      <td>209</td>\n",
              "      <td>1</td>\n",
              "    </tr>\n",
              "    <tr>\n",
              "      <th>2</th>\n",
              "      <td>0</td>\n",
              "      <td>223</td>\n",
              "      <td>1</td>\n",
              "    </tr>\n",
              "    <tr>\n",
              "      <th>3</th>\n",
              "      <td>0</td>\n",
              "      <td>249</td>\n",
              "      <td>1</td>\n",
              "    </tr>\n",
              "    <tr>\n",
              "      <th>4</th>\n",
              "      <td>0</td>\n",
              "      <td>435</td>\n",
              "      <td>1</td>\n",
              "    </tr>\n",
              "    <tr>\n",
              "      <th>5</th>\n",
              "      <td>0</td>\n",
              "      <td>460</td>\n",
              "      <td>1</td>\n",
              "    </tr>\n",
              "    <tr>\n",
              "      <th>6</th>\n",
              "      <td>0</td>\n",
              "      <td>652</td>\n",
              "      <td>1</td>\n",
              "    </tr>\n",
              "    <tr>\n",
              "      <th>7</th>\n",
              "      <td>0</td>\n",
              "      <td>960</td>\n",
              "      <td>1</td>\n",
              "    </tr>\n",
              "    <tr>\n",
              "      <th>8</th>\n",
              "      <td>0</td>\n",
              "      <td>973</td>\n",
              "      <td>1</td>\n",
              "    </tr>\n",
              "    <tr>\n",
              "      <th>9</th>\n",
              "      <td>0</td>\n",
              "      <td>1103</td>\n",
              "      <td>1</td>\n",
              "    </tr>\n",
              "  </tbody>\n",
              "</table>\n",
              "</div>"
            ],
            "text/plain": [
              "   UserID  ItemID  Interaction\n",
              "0       0      53            1\n",
              "1       0     209            1\n",
              "2       0     223            1\n",
              "3       0     249            1\n",
              "4       0     435            1\n",
              "5       0     460            1\n",
              "6       0     652            1\n",
              "7       0     960            1\n",
              "8       0     973            1\n",
              "9       0    1103            1"
            ]
          },
          "metadata": {},
          "execution_count": 6
        }
      ]
    },
    {
      "cell_type": "code",
      "metadata": {
        "colab": {
          "base_uri": "https://localhost:8080/"
        },
        "id": "DcdS_Sh_iQnJ",
        "outputId": "2fd1289b-d5a8-4f3a-8076-3595f6e20fee"
      },
      "source": [
        "print (\"The number of interactions is {}\".format(len(URM_all_dataframe)))"
      ],
      "execution_count": 7,
      "outputs": [
        {
          "output_type": "stream",
          "name": "stdout",
          "text": [
            "The number of interactions is 5285664\n"
          ]
        }
      ]
    },
    {
      "cell_type": "markdown",
      "metadata": {
        "id": "uMq9G_mocKWR"
      },
      "source": [
        "## Load content informations in the same way.\n",
        "## In this case we are using tags. The ICM also contains the user that added the tag in column 0 (but we don't use that information)."
      ]
    },
    {
      "cell_type": "code",
      "metadata": {
        "id": "cvfLdgA1cKWS"
      },
      "source": [
        "#icm_file_name = data_path + \"data_ICM_genre.csv\"\n",
        "#icm_file_name = data_path + \"data_ICM_subgenre.csv\"\n",
        "\n",
        "icm_file_name = data_path + \"data_ICM_channel.csv\"\n",
        "\n",
        "ICM_all_dataframe = pd.read_csv(icm_file_name,\n",
        "                                dtype={0:int, 1:int, 2:int})\n",
        "\n",
        "ICM_all_dataframe.columns = [\"ItemID\", \"GenreID\", \"Interaction\"]\n"
      ],
      "execution_count": 8,
      "outputs": []
    },
    {
      "cell_type": "code",
      "metadata": {
        "colab": {
          "base_uri": "https://localhost:8080/",
          "height": 352
        },
        "id": "r1nAfFMmcKWS",
        "outputId": "24ae0b8b-a9ea-459b-dd92-93d0e7711b28"
      },
      "source": [
        "ICM_all_dataframe.head(10)"
      ],
      "execution_count": 9,
      "outputs": [
        {
          "output_type": "execute_result",
          "data": {
            "text/html": [
              "<div>\n",
              "<style scoped>\n",
              "    .dataframe tbody tr th:only-of-type {\n",
              "        vertical-align: middle;\n",
              "    }\n",
              "\n",
              "    .dataframe tbody tr th {\n",
              "        vertical-align: top;\n",
              "    }\n",
              "\n",
              "    .dataframe thead th {\n",
              "        text-align: right;\n",
              "    }\n",
              "</style>\n",
              "<table border=\"1\" class=\"dataframe\">\n",
              "  <thead>\n",
              "    <tr style=\"text-align: right;\">\n",
              "      <th></th>\n",
              "      <th>ItemID</th>\n",
              "      <th>GenreID</th>\n",
              "      <th>Interaction</th>\n",
              "    </tr>\n",
              "  </thead>\n",
              "  <tbody>\n",
              "    <tr>\n",
              "      <th>0</th>\n",
              "      <td>0</td>\n",
              "      <td>23</td>\n",
              "      <td>1</td>\n",
              "    </tr>\n",
              "    <tr>\n",
              "      <th>1</th>\n",
              "      <td>1</td>\n",
              "      <td>30</td>\n",
              "      <td>1</td>\n",
              "    </tr>\n",
              "    <tr>\n",
              "      <th>2</th>\n",
              "      <td>2</td>\n",
              "      <td>38</td>\n",
              "      <td>1</td>\n",
              "    </tr>\n",
              "    <tr>\n",
              "      <th>3</th>\n",
              "      <td>2</td>\n",
              "      <td>53</td>\n",
              "      <td>1</td>\n",
              "    </tr>\n",
              "    <tr>\n",
              "      <th>4</th>\n",
              "      <td>3</td>\n",
              "      <td>51</td>\n",
              "      <td>1</td>\n",
              "    </tr>\n",
              "    <tr>\n",
              "      <th>5</th>\n",
              "      <td>4</td>\n",
              "      <td>99</td>\n",
              "      <td>1</td>\n",
              "    </tr>\n",
              "    <tr>\n",
              "      <th>6</th>\n",
              "      <td>5</td>\n",
              "      <td>152</td>\n",
              "      <td>1</td>\n",
              "    </tr>\n",
              "    <tr>\n",
              "      <th>7</th>\n",
              "      <td>6</td>\n",
              "      <td>115</td>\n",
              "      <td>1</td>\n",
              "    </tr>\n",
              "    <tr>\n",
              "      <th>8</th>\n",
              "      <td>7</td>\n",
              "      <td>173</td>\n",
              "      <td>1</td>\n",
              "    </tr>\n",
              "    <tr>\n",
              "      <th>9</th>\n",
              "      <td>8</td>\n",
              "      <td>36</td>\n",
              "      <td>1</td>\n",
              "    </tr>\n",
              "  </tbody>\n",
              "</table>\n",
              "</div>"
            ],
            "text/plain": [
              "   ItemID  GenreID  Interaction\n",
              "0       0       23            1\n",
              "1       1       30            1\n",
              "2       2       38            1\n",
              "3       2       53            1\n",
              "4       3       51            1\n",
              "5       4       99            1\n",
              "6       5      152            1\n",
              "7       6      115            1\n",
              "8       7      173            1\n",
              "9       8       36            1"
            ]
          },
          "metadata": {},
          "execution_count": 9
        }
      ]
    },
    {
      "cell_type": "code",
      "metadata": {
        "colab": {
          "base_uri": "https://localhost:8080/",
          "height": 291
        },
        "id": "-8Uj10zWk1zG",
        "outputId": "49e3b222-b768-4b2d-e5fa-0376fdea4791"
      },
      "source": [
        "ICM_all_dataframe.describe()"
      ],
      "execution_count": 10,
      "outputs": [
        {
          "output_type": "execute_result",
          "data": {
            "text/html": [
              "<div>\n",
              "<style scoped>\n",
              "    .dataframe tbody tr th:only-of-type {\n",
              "        vertical-align: middle;\n",
              "    }\n",
              "\n",
              "    .dataframe tbody tr th {\n",
              "        vertical-align: top;\n",
              "    }\n",
              "\n",
              "    .dataframe thead th {\n",
              "        text-align: right;\n",
              "    }\n",
              "</style>\n",
              "<table border=\"1\" class=\"dataframe\">\n",
              "  <thead>\n",
              "    <tr style=\"text-align: right;\">\n",
              "      <th></th>\n",
              "      <th>ItemID</th>\n",
              "      <th>GenreID</th>\n",
              "      <th>Interaction</th>\n",
              "    </tr>\n",
              "  </thead>\n",
              "  <tbody>\n",
              "    <tr>\n",
              "      <th>count</th>\n",
              "      <td>24520.000000</td>\n",
              "      <td>24520.000000</td>\n",
              "      <td>24520.0</td>\n",
              "    </tr>\n",
              "    <tr>\n",
              "      <th>mean</th>\n",
              "      <td>9054.705873</td>\n",
              "      <td>108.768760</td>\n",
              "      <td>1.0</td>\n",
              "    </tr>\n",
              "    <tr>\n",
              "      <th>std</th>\n",
              "      <td>5226.761222</td>\n",
              "      <td>60.413253</td>\n",
              "      <td>0.0</td>\n",
              "    </tr>\n",
              "    <tr>\n",
              "      <th>min</th>\n",
              "      <td>0.000000</td>\n",
              "      <td>0.000000</td>\n",
              "      <td>1.0</td>\n",
              "    </tr>\n",
              "    <tr>\n",
              "      <th>25%</th>\n",
              "      <td>4510.750000</td>\n",
              "      <td>53.000000</td>\n",
              "      <td>1.0</td>\n",
              "    </tr>\n",
              "    <tr>\n",
              "      <th>50%</th>\n",
              "      <td>9078.000000</td>\n",
              "      <td>104.000000</td>\n",
              "      <td>1.0</td>\n",
              "    </tr>\n",
              "    <tr>\n",
              "      <th>75%</th>\n",
              "      <td>13588.250000</td>\n",
              "      <td>164.000000</td>\n",
              "      <td>1.0</td>\n",
              "    </tr>\n",
              "    <tr>\n",
              "      <th>max</th>\n",
              "      <td>18058.000000</td>\n",
              "      <td>212.000000</td>\n",
              "      <td>1.0</td>\n",
              "    </tr>\n",
              "  </tbody>\n",
              "</table>\n",
              "</div>"
            ],
            "text/plain": [
              "             ItemID       GenreID  Interaction\n",
              "count  24520.000000  24520.000000      24520.0\n",
              "mean    9054.705873    108.768760          1.0\n",
              "std     5226.761222     60.413253          0.0\n",
              "min        0.000000      0.000000          1.0\n",
              "25%     4510.750000     53.000000          1.0\n",
              "50%     9078.000000    104.000000          1.0\n",
              "75%    13588.250000    164.000000          1.0\n",
              "max    18058.000000    212.000000          1.0"
            ]
          },
          "metadata": {},
          "execution_count": 10
        }
      ]
    },
    {
      "cell_type": "code",
      "metadata": {
        "colab": {
          "base_uri": "https://localhost:8080/"
        },
        "id": "JfNodxtwcKWU",
        "outputId": "25401515-e057-42aa-d961-8315606cd1a1"
      },
      "source": [
        "n_genres = len(ICM_all_dataframe[\"GenreID\"].unique())\n",
        "\n",
        "print (\"Number of tags\\t {}, Number of item-tag tuples {}\".format(n_genres, len(ICM_all_dataframe)))"
      ],
      "execution_count": 11,
      "outputs": [
        {
          "output_type": "stream",
          "name": "stdout",
          "text": [
            "Number of tags\t 213, Number of item-tag tuples 24520\n"
          ]
        }
      ]
    },
    {
      "cell_type": "markdown",
      "metadata": {
        "id": "XSC1seitcKWU"
      },
      "source": [
        "## We now build the sparse URM and ICM matrices\n",
        "\n",
        "### The tags are strings, we should traslate them into numbers so we can use them as indices in the ICM. \n",
        "### We should also ensure that the item and user indices we use in ICM and URM are consistent. To do so we use the same mapper, first we populate it with the URM and then we add the new ids that appear only in the ICM"
      ]
    },
    {
      "cell_type": "markdown",
      "metadata": {
        "id": "_9kuSeackM6w"
      },
      "source": [
        "#❗\n",
        "**PER NOI I GENERI SONO GIA' NUMERI non strings**\n",
        "\n",
        "**E poi lui nella ICM ha i tag ovvero : UserID - Itemid - Feature , noi no tag ovvero non c'è l'utente associato ma solo l'itemid - feature**"
      ]
    },
    {
      "cell_type": "markdown",
      "metadata": {
        "id": "mciDx7RecKWf"
      },
      "source": [
        "### When we create the matrices we need to make sure they have the same shape. As we have seen some items and users only appear in one of the two matrices and are missing in the other (if they have no tags or no interactions)"
      ]
    },
    {
      "cell_type": "code",
      "metadata": {
        "colab": {
          "base_uri": "https://localhost:8080/"
        },
        "id": "WdlrNXM5BeR4",
        "outputId": "41309417-3d22-4e4c-ba60-46f2b0280e40"
      },
      "source": [
        "itemID_unique = URM_all_dataframe[\"ItemID\"].unique()\n",
        "itemID_unique_ICM = ICM_all_dataframe[\"ItemID\"].unique()\n",
        "userID_unique = URM_all_dataframe[\"UserID\"].unique()\n",
        "genreID_unique = ICM_all_dataframe[\"GenreID\"].unique()\n",
        "\n",
        "n_items = len(itemID_unique)\n",
        "n_items_ICM = len(itemID_unique_ICM)\n",
        "n_users = len(userID_unique)\n",
        "n_genres = len(genreID_unique)\n",
        "n_interactions_URM = len(URM_all_dataframe)\n",
        "n_interactions_ICM = len(ICM_all_dataframe)\n",
        "\n",
        "print (\"Number of items\\t {}, Number of items in ICM \\t {}, Number of users\\t {},  Number of genres\\t {}\\n\".format(n_items,n_items_ICM, n_users, n_genres))\n",
        "print (\"Max ID items URM \\t {}, Max ID items ICM \\t {},Max Id users\\t {}\\n\".format(max(itemID_unique), max(itemID_unique_ICM), max(userID_unique)))\n",
        "print (\"Average interactions per user {:.2f}\".format(n_interactions_URM/n_users))\n",
        "print (\"Average interactions per item {:.2f}\\n\".format(n_interactions_URM/n_items))\n",
        "print (\"Average n of genres interactions per item {:.2f}\\n\".format(n_interactions_ICM/n_items_ICM))\n",
        "print (\"Average n of item interaction per genre {:.2f}\\n\".format(n_interactions_ICM/n_genres))\n",
        "\n",
        "\n",
        "print (\"Sparsity {:.2f} %\".format((1-float(n_interactions_URM)/(n_items*n_users))*100))\n",
        "\n",
        "print (\"Sparsity ICM {:.2f} %\".format((1-float(n_interactions_ICM)/(n_items_ICM*n_genres))*100))\n",
        "#dato che ci sono + items in urm che in icm -> ci sono items senza genere"
      ],
      "execution_count": 12,
      "outputs": [
        {
          "output_type": "stream",
          "name": "stdout",
          "text": [
            "Number of items\t 18059, Number of items in ICM \t 17707, Number of users\t 13650,  Number of genres\t 213\n",
            "\n",
            "Max ID items URM \t 18058, Max ID items ICM \t 18058,Max Id users\t 13649\n",
            "\n",
            "Average interactions per user 387.23\n",
            "Average interactions per item 292.69\n",
            "\n",
            "Average n of genres interactions per item 1.38\n",
            "\n",
            "Average n of item interaction per genre 115.12\n",
            "\n",
            "Sparsity 97.86 %\n",
            "Sparsity ICM 99.35 %\n"
          ]
        }
      ]
    },
    {
      "cell_type": "code",
      "metadata": {
        "colab": {
          "base_uri": "https://localhost:8080/"
        },
        "id": "6sozWZPFpvBL",
        "outputId": "6164a8c4-e11c-4258-eb0d-fba36ffc9299"
      },
      "source": [
        "import scipy.sparse as sps\n",
        "import numpy as np\n",
        "print(n_users, n_items, n_genres )"
      ],
      "execution_count": 13,
      "outputs": [
        {
          "output_type": "stream",
          "name": "stdout",
          "text": [
            "13650 18059 213\n"
          ]
        }
      ]
    },
    {
      "cell_type": "code",
      "metadata": {
        "colab": {
          "base_uri": "https://localhost:8080/"
        },
        "id": "gfQKf1qXcKWg",
        "outputId": "c0c8b729-e144-42b7-9c29-238aab905afe"
      },
      "source": [
        "URM_all = sps.csr_matrix((URM_all_dataframe[\"Interaction\"].values, \n",
        "                          (URM_all_dataframe[\"UserID\"].values, URM_all_dataframe[\"ItemID\"].values)),\n",
        "                        shape = (n_users, n_items))\n",
        "\n",
        "URM_all"
      ],
      "execution_count": 14,
      "outputs": [
        {
          "output_type": "execute_result",
          "data": {
            "text/plain": [
              "<13650x18059 sparse matrix of type '<class 'numpy.longlong'>'\n",
              "\twith 5285664 stored elements in Compressed Sparse Row format>"
            ]
          },
          "metadata": {},
          "execution_count": 14
        }
      ]
    },
    {
      "cell_type": "code",
      "metadata": {
        "colab": {
          "base_uri": "https://localhost:8080/"
        },
        "id": "q12dWgjPcKWg",
        "outputId": "06eae015-0973-4568-f459-78effffcf1d3"
      },
      "source": [
        "ICM_all = sps.csr_matrix((np.ones(len(ICM_all_dataframe[\"ItemID\"].values)), \n",
        "                          (ICM_all_dataframe[\"ItemID\"].values, ICM_all_dataframe[\"GenreID\"].values)),\n",
        "                        shape = (n_items, n_genres))\n",
        "\n",
        "ICM_all.data = np.ones_like(ICM_all.data)\n",
        "\n",
        "ICM_all"
      ],
      "execution_count": 15,
      "outputs": [
        {
          "output_type": "execute_result",
          "data": {
            "text/plain": [
              "<18059x213 sparse matrix of type '<class 'numpy.float64'>'\n",
              "\twith 24520 stored elements in Compressed Sparse Row format>"
            ]
          },
          "metadata": {},
          "execution_count": 15
        }
      ]
    },
    {
      "cell_type": "markdown",
      "metadata": {
        "id": "KDmbm2rmcKWh"
      },
      "source": [
        "# Let's take a look at the ICM\n",
        "\n",
        "### We leverage CSR and CSC indptr data structure to compute the number of cells that have values for that row or column"
      ]
    },
    {
      "cell_type": "code",
      "metadata": {
        "id": "q2qKsFfZcKWi"
      },
      "source": [
        "ICM_all = sps.csr_matrix(ICM_all)\n",
        "features_per_item = np.ediff1d(ICM_all.indptr)\n",
        "\n",
        "ICM_all = sps.csc_matrix(ICM_all)\n",
        "items_per_feature = np.ediff1d(ICM_all.indptr)\n",
        "\n",
        "ICM_all = sps.csr_matrix(ICM_all)"
      ],
      "execution_count": 16,
      "outputs": []
    },
    {
      "cell_type": "code",
      "metadata": {
        "colab": {
          "base_uri": "https://localhost:8080/"
        },
        "id": "i5gAVq7WcKWi",
        "outputId": "f0730db6-7598-487b-f4b1-28f8d6c0a70e"
      },
      "source": [
        "print(features_per_item.shape)\n",
        "print(items_per_feature.shape)"
      ],
      "execution_count": 17,
      "outputs": [
        {
          "output_type": "stream",
          "name": "stdout",
          "text": [
            "(18059,)\n",
            "(213,)\n"
          ]
        }
      ]
    },
    {
      "cell_type": "code",
      "metadata": {
        "id": "svuxaZNScKWj"
      },
      "source": [
        "features_per_item = np.sort(features_per_item)\n",
        "items_per_feature = np.sort(items_per_feature)"
      ],
      "execution_count": 18,
      "outputs": []
    },
    {
      "cell_type": "code",
      "metadata": {
        "colab": {
          "base_uri": "https://localhost:8080/",
          "height": 277
        },
        "id": "Nnms0OfRcKWk",
        "outputId": "eb44517d-4668-418f-a932-09ddca2b8146"
      },
      "source": [
        "import matplotlib.pyplot as pyplot\n",
        "%matplotlib inline  \n",
        "\n",
        "pyplot.plot(features_per_item, 'ro')\n",
        "pyplot.ylabel('Num features ')\n",
        "pyplot.xlabel('Sorted items')\n",
        "pyplot.show()"
      ],
      "execution_count": 19,
      "outputs": [
        {
          "output_type": "display_data",
          "data": {
            "image/png": "[encoded data removed]",
            "text/plain": [
              "<Figure size 432x288 with 1 Axes>"
            ]
          },
          "metadata": {
            "needs_background": "light"
          }
        }
      ]
    },
    {
      "cell_type": "code",
      "metadata": {
        "colab": {
          "base_uri": "https://localhost:8080/",
          "height": 277
        },
        "id": "bWakUvLJcKWk",
        "outputId": "987cbde5-8059-4766-adbf-88749df0f3e6"
      },
      "source": [
        "pyplot.plot(items_per_feature, 'ro')\n",
        "pyplot.ylabel('Num items ')\n",
        "pyplot.xlabel('Sorted features')\n",
        "pyplot.show()"
      ],
      "execution_count": 20,
      "outputs": [
        {
          "output_type": "display_data",
          "data": {
            "image/png": "[encoded data removed]",
            "text/plain": [
              "<Figure size 432x288 with 1 Axes>"
            ]
          },
          "metadata": {
            "needs_background": "light"
          }
        }
      ]
    },
    {
      "cell_type": "markdown",
      "metadata": {
        "id": "QYMLBBdLcKWl"
      },
      "source": [
        "# We can now build the recommender algorithm, but first we need the train/test split and the evaluation function:"
      ]
    },
    {
      "cell_type": "code",
      "metadata": {
        "id": "KFsdZS1-cKWl",
        "colab": {
          "base_uri": "https://localhost:8080/"
        },
        "outputId": "3e7c8554-46bf-461c-ab24-289efd0e9728"
      },
      "source": [
        "from Evaluation.Evaluator import EvaluatorHoldout\n",
        "from Data_manager.split_functions.split_train_validation_random_holdout import split_train_in_two_percentage_global_sample\n",
        "\n",
        "#URM_train, URM_test = split_train_in_two_percentage_global_sample(URM_all, train_percentage = 0.80)\n",
        "URM_train, URM_validation = split_train_in_two_percentage_global_sample(URM_all, train_percentage = 0.80)\n",
        "\n",
        "evaluator_validation = EvaluatorHoldout(URM_validation, cutoff_list=[10])\n",
        "#evaluator_test = EvaluatorHoldout(URM_test, cutoff_list=[10])"
      ],
      "execution_count": 21,
      "outputs": [
        {
          "output_type": "stream",
          "name": "stdout",
          "text": [
            "Warning: 6 (0.04 %) of 13650 users have no sampled items\n",
            "EvaluatorHoldout: Ignoring 13644 ( 0.0%) Users that have less than 1 test interactions\n"
          ]
        }
      ]
    },
    {
      "cell_type": "code",
      "metadata": {
        "id": "3YVMmZ39RU6A"
      },
      "source": [
        "#DA QUESTO PUNTO ROBE DI ANALISI DATASET vogliamo tenere?"
      ],
      "execution_count": 22,
      "outputs": []
    },
    {
      "cell_type": "markdown",
      "metadata": {
        "id": "tIepHyGKcKWo"
      },
      "source": [
        "## A KNN is built with the following steps:\n",
        "* Compute the similarity of an item with all others\n",
        "* Select the k-highest similarities"
      ]
    },
    {
      "cell_type": "code",
      "metadata": {
        "id": "cWkE2jTKcKWq"
      },
      "source": [
        "item_id = 80\n",
        "shrink = 10"
      ],
      "execution_count": 23,
      "outputs": []
    },
    {
      "cell_type": "markdown",
      "metadata": {
        "id": "gCuDSNX_cKWt"
      },
      "source": [
        "The numerator is the dot product of the item features times the whole ICM data transposed"
      ]
    },
    {
      "cell_type": "code",
      "metadata": {
        "id": "3bGegRxCcKWu",
        "colab": {
          "base_uri": "https://localhost:8080/"
        },
        "outputId": "0292002f-44fd-4947-f647-e738ec937381"
      },
      "source": [
        "numerator_vector = ICM_all[item_id].dot(ICM_all.T).toarray().ravel()\n",
        "numerator_vector"
      ],
      "execution_count": 24,
      "outputs": [
        {
          "output_type": "execute_result",
          "data": {
            "text/plain": [
              "array([0., 0., 0., ..., 0., 0., 0.])"
            ]
          },
          "metadata": {},
          "execution_count": 24
        }
      ]
    },
    {
      "cell_type": "code",
      "metadata": {
        "id": "zVPilyx9cKWv",
        "colab": {
          "base_uri": "https://localhost:8080/"
        },
        "outputId": "16bc918b-b39f-4d48-971e-59bec4f94b8e"
      },
      "source": [
        "item_norms = np.sqrt(np.array(ICM_all.T.power(2).sum(axis=0))).ravel()\n",
        "item_norms"
      ],
      "execution_count": 25,
      "outputs": [
        {
          "output_type": "execute_result",
          "data": {
            "text/plain": [
              "array([1.        , 1.        , 1.41421356, ..., 1.        , 1.        ,\n",
              "       1.        ])"
            ]
          },
          "metadata": {},
          "execution_count": 25
        }
      ]
    },
    {
      "cell_type": "markdown",
      "metadata": {
        "id": "c73J_CYLcKWv"
      },
      "source": [
        "The denominator will be the product of norms plus the srink term and a small value which prevents the denominator to be zero (only for non-negative data)"
      ]
    },
    {
      "cell_type": "code",
      "metadata": {
        "id": "2lJcjh9ScKWw",
        "colab": {
          "base_uri": "https://localhost:8080/"
        },
        "outputId": "24412587-0b5c-44b1-ea85-a77729e3eb97"
      },
      "source": [
        "denominator_vector = item_norms[item_id] * item_norms + shrink + 1e-6\n",
        "denominator_vector"
      ],
      "execution_count": 26,
      "outputs": [
        {
          "output_type": "execute_result",
          "data": {
            "text/plain": [
              "array([11.000001  , 11.000001  , 11.41421456, ..., 11.000001  ,\n",
              "       11.000001  , 11.000001  ])"
            ]
          },
          "metadata": {},
          "execution_count": 26
        }
      ]
    },
    {
      "cell_type": "code",
      "metadata": {
        "id": "UCu0YvVTcKWx"
      },
      "source": [
        "similarity_vector = numerator_vector/denominator_vector"
      ],
      "execution_count": 27,
      "outputs": []
    },
    {
      "cell_type": "markdown",
      "metadata": {
        "id": "74fnXDcMcKWx"
      },
      "source": [
        "Let's sort the similarity from the highest to the lowest"
      ]
    },
    {
      "cell_type": "code",
      "metadata": {
        "id": "UbWr0XCycKWy",
        "colab": {
          "base_uri": "https://localhost:8080/"
        },
        "outputId": "1d079768-d273-4c4e-c564-5b816b2d42b4"
      },
      "source": [
        "sorted_item_indices = np.argsort(-similarity_vector)\n",
        "sorted_item_indices"
      ],
      "execution_count": 28,
      "outputs": [
        {
          "output_type": "execute_result",
          "data": {
            "text/plain": [
              "array([ 8664, 11307,  2176, ...,  6116,  6124, 18058])"
            ]
          },
          "metadata": {},
          "execution_count": 28
        }
      ]
    },
    {
      "cell_type": "code",
      "metadata": {
        "id": "cJbKaROCcKWz",
        "colab": {
          "base_uri": "https://localhost:8080/",
          "height": 277
        },
        "outputId": "7774ebfd-d294-4111-aafa-c2b5c45e54d8"
      },
      "source": [
        "pyplot.plot(similarity_vector[sorted_item_indices], 'ro')\n",
        "pyplot.ylabel('Similarity')\n",
        "pyplot.xlabel('Item')\n",
        "pyplot.show()"
      ],
      "execution_count": 29,
      "outputs": [
        {
          "output_type": "display_data",
          "data": {
            "image/png": "[encoded data removed]",
            "text/plain": [
              "<Figure size 432x288 with 1 Axes>"
            ]
          },
          "metadata": {
            "needs_background": "light"
          }
        }
      ]
    },
    {
      "cell_type": "markdown",
      "metadata": {
        "id": "TwZtgyTfcKW0"
      },
      "source": [
        "Now we select the k most similar items"
      ]
    },
    {
      "cell_type": "code",
      "metadata": {
        "id": "rZCW5CKwcKW0"
      },
      "source": [
        "k = 20"
      ],
      "execution_count": 30,
      "outputs": []
    },
    {
      "cell_type": "code",
      "metadata": {
        "id": "rNfq_bTMcKW0",
        "colab": {
          "base_uri": "https://localhost:8080/",
          "height": 277
        },
        "outputId": "e1209be8-665e-42fa-ab0f-765eea539985"
      },
      "source": [
        "pyplot.plot(similarity_vector[sorted_item_indices[0:k]], 'ro')\n",
        "pyplot.ylabel('Similarity')\n",
        "pyplot.xlabel('Item')\n",
        "pyplot.show()"
      ],
      "execution_count": 31,
      "outputs": [
        {
          "output_type": "display_data",
          "data": {
            "image/png": "[encoded data removed]",
            "text/plain": [
              "<Figure size 432x288 with 1 Axes>"
            ]
          },
          "metadata": {
            "needs_background": "light"
          }
        }
      ]
    },
    {
      "cell_type": "markdown",
      "metadata": {
        "id": "Aq_Cb5SzcKW1"
      },
      "source": [
        "The operation is performed for all items.\n",
        "A simple strategy to perform it efficiently is to vectorize the most computationally intensive part, the dot product, on a group of items. The speedup can be of a factor of 10-100.\n",
        "This strategy is limited by the fact that the result of the dot product is a huge item-item dense similarity which likely does not fit in memory."
      ]
    },
    {
      "cell_type": "code",
      "metadata": {
        "id": "v9GIG96hcKW1"
      },
      "source": [
        "import traceback\n",
        "\n",
        "try:\n",
        "    numerator_matrix = ICM_all.dot(ICM_all.T).toarray()\n",
        "    \n",
        "except Exception as e:\n",
        "    traceback.print_exc()"
      ],
      "execution_count": 32,
      "outputs": []
    },
    {
      "cell_type": "markdown",
      "metadata": {
        "id": "eHTfqj5LcKW2"
      },
      "source": [
        "The solution is:\n",
        "* Compute the numerator a block of items at a time leveraging vectorization while not running out of memory\n",
        "* Extract the k-nn on those items\n",
        "* Built incrementally the sparse similarity matrix"
      ]
    },
    {
      "cell_type": "code",
      "metadata": {
        "id": "qd-3B7BccKW2",
        "colab": {
          "base_uri": "https://localhost:8080/"
        },
        "outputId": "43453b17-7382-4ce2-efd5-d0206524d508"
      },
      "source": [
        "block_size = 100\n",
        "\n",
        "numerator_block = ICM_all[0:block_size].dot(ICM_all.T).toarray()\n",
        "numerator_block.shape"
      ],
      "execution_count": 33,
      "outputs": [
        {
          "output_type": "execute_result",
          "data": {
            "text/plain": [
              "(100, 18059)"
            ]
          },
          "metadata": {},
          "execution_count": 33
        }
      ]
    },
    {
      "cell_type": "markdown",
      "metadata": {
        "id": "8AHo08AucKW2"
      },
      "source": [
        "Let's compare the speed to compute the dot product on the whole similarity of the two strategies"
      ]
    },
    {
      "cell_type": "code",
      "metadata": {
        "id": "Lc-ekJ98cKW2",
        "outputId": "c509d9a8-7e7e-40ad-b996-d09c62b8ba6c",
        "colab": {
          "base_uri": "https://localhost:8080/"
        }
      },
      "source": [
        "import time\n",
        "\n",
        "n_items = ICM_all.shape[0]\n",
        "\n",
        "start_time = time.time()\n",
        "\n",
        "for n_item in range(n_items):\n",
        "    numerator_vector = ICM_all[item_id].dot(ICM_all.T).toarray().ravel()\n",
        "    \n",
        "end_time = time.time()\n",
        "\n",
        "print(\"Computing the similarity one item at a time runs at {:.2f} items/sec\".format(n_items/(end_time-start_time)))\n",
        "\n"
      ],
      "execution_count": 34,
      "outputs": [
        {
          "output_type": "stream",
          "name": "stdout",
          "text": [
            "Computing the similarity one item at a time runs at 1444.28 items/sec\n"
          ]
        }
      ]
    },
    {
      "cell_type": "code",
      "metadata": {
        "id": "YHsWbgCacKW3",
        "outputId": "97cf02ff-c736-483d-e2e5-35e2f4f481d2",
        "colab": {
          "base_uri": "https://localhost:8080/"
        }
      },
      "source": [
        "n_items = ICM_all.shape[0]\n",
        "\n",
        "start_time = time.time()\n",
        "\n",
        "block_size = 100\n",
        "blocks_start_positions = range(0, n_items, block_size)\n",
        "\n",
        "for start_pos in blocks_start_positions:\n",
        "    end_pos = min(start_pos + block_size, n_items)\n",
        "    \n",
        "    numerator_block = ICM_all[start_pos:end_pos].dot(ICM_all.T).toarray()\n",
        "    \n",
        "end_time = time.time()\n",
        "\n",
        "print(\"Computing the similarity in blocks of 100 items at a time runs at {:.2f} items/sec\".format(n_items/(end_time-start_time)))\n",
        "\n"
      ],
      "execution_count": 35,
      "outputs": [
        {
          "output_type": "stream",
          "name": "stdout",
          "text": [
            "Computing the similarity in blocks of 100 items at a time runs at 17729.27 items/sec\n"
          ]
        }
      ]
    },
    {
      "cell_type": "markdown",
      "metadata": {
        "id": "Ej489dtScKW3"
      },
      "source": [
        "### In this case the vectorized implementation runs >20 times faster!\n",
        "\n",
        "#### Usually most of the speed gain comes with blocks of 100 or so items, depending on the system. Much higher than that tends to not be beneficial while requiring increasingly more memory."
      ]
    },
    {
      "cell_type": "code",
      "metadata": {
        "id": "53SnDwfx5JrA"
      },
      "source": [
        "#DA QUA INIZIA PARTE CON MODEL + evaluation"
      ],
      "execution_count": null,
      "outputs": []
    },
    {
      "cell_type": "markdown",
      "metadata": {
        "id": "2a9YkJP1cKW4"
      },
      "source": [
        "#### Let's now compute the entire similarity matrix and use it to generate recommendations"
      ]
    },
    {
      "cell_type": "code",
      "metadata": {
        "id": "MnZ2hKhdcKW4",
        "colab": {
          "base_uri": "https://localhost:8080/"
        },
        "outputId": "76975b48-3a95-411a-d422-12c7a235e6ae"
      },
      "source": [
        "from Recommenders.Similarity.Compute_Similarity_Python import Compute_Similarity_Python\n",
        "\n",
        "similarity_object = Compute_Similarity_Python(ICM_all.T, shrink=0.0, \n",
        "                                          topK=100,\n",
        "                                          normalize=True, \n",
        "                                          similarity = \"cosine\")\n",
        "\n",
        "W_sparse = similarity_object.compute_similarity()\n",
        "W_sparse"
      ],
      "execution_count": 37,
      "outputs": [
        {
          "output_type": "stream",
          "name": "stdout",
          "text": [
            "Similarity column 18059 (100.0%), 3105.54 column/sec. Elapsed time 5.82 sec\n"
          ]
        },
        {
          "output_type": "execute_result",
          "data": {
            "text/plain": [
              "<18059x18059 sparse matrix of type '<class 'numpy.float32'>'\n",
              "\twith 1710358 stored elements in Compressed Sparse Row format>"
            ]
          },
          "metadata": {},
          "execution_count": 37
        }
      ]
    },
    {
      "cell_type": "code",
      "metadata": {
        "id": "2ow0EauIcKW5",
        "colab": {
          "base_uri": "https://localhost:8080/"
        },
        "outputId": "53b8696c-a45a-40f8-a812-41634b2af046"
      },
      "source": [
        "user_id = 200\n",
        "user_profile = URM_train[user_id]\n",
        "\n",
        "scores = user_profile.dot(W_sparse)\n",
        "scores"
      ],
      "execution_count": 38,
      "outputs": [
        {
          "output_type": "execute_result",
          "data": {
            "text/plain": [
              "<1x18059 sparse matrix of type '<class 'numpy.float64'>'\n",
              "\twith 760 stored elements in Compressed Sparse Row format>"
            ]
          },
          "metadata": {},
          "execution_count": 38
        }
      ]
    },
    {
      "cell_type": "code",
      "metadata": {
        "id": "mi-gQcSFcKW5",
        "colab": {
          "base_uri": "https://localhost:8080/"
        },
        "outputId": "0a3143b3-a0c3-412e-88ba-bbeedd4f3326"
      },
      "source": [
        "scores = scores.toarray().ravel()\n",
        "scores"
      ],
      "execution_count": 39,
      "outputs": [
        {
          "output_type": "execute_result",
          "data": {
            "text/plain": [
              "array([0., 0., 0., ..., 0., 0., 0.])"
            ]
          },
          "metadata": {},
          "execution_count": 39
        }
      ]
    },
    {
      "cell_type": "markdown",
      "metadata": {
        "id": "7_MIBMugcKW6"
      },
      "source": [
        "We can then sort the scores to recommend the highest ranked ones"
      ]
    },
    {
      "cell_type": "code",
      "metadata": {
        "id": "TPGvlkt4cKW6",
        "colab": {
          "base_uri": "https://localhost:8080/"
        },
        "outputId": "71b65207-0862-4ccb-8543-b20c6e35f230"
      },
      "source": [
        "ranking = scores.argsort()[::-1][0:10]\n",
        "ranking"
      ],
      "execution_count": 40,
      "outputs": [
        {
          "output_type": "execute_result",
          "data": {
            "text/plain": [
              "array([ 1969, 14276, 16315,  4162,   513,  4998,  2119, 13702,  2836,\n",
              "        8360])"
            ]
          },
          "metadata": {},
          "execution_count": 40
        }
      ]
    },
    {
      "cell_type": "code",
      "metadata": {
        "id": "ZR5nmPiKcKW6",
        "colab": {
          "base_uri": "https://localhost:8080/"
        },
        "outputId": "9f52b8de-a32d-49dc-a05f-8b3948156454"
      },
      "source": [
        "scores[ranking]"
      ],
      "execution_count": 41,
      "outputs": [
        {
          "output_type": "execute_result",
          "data": {
            "text/plain": [
              "array([0.99999905, 0.99999905, 0.99999905, 0.99999905, 0.99999905,\n",
              "       0.99999905, 0.99999905, 0.99999905, 0.99999905, 0.99999905])"
            ]
          },
          "metadata": {},
          "execution_count": 41
        }
      ]
    },
    {
      "cell_type": "code",
      "metadata": {
        "id": "Vk8lljHNTntG"
      },
      "source": [
        ""
      ],
      "execution_count": 41,
      "outputs": []
    },
    {
      "cell_type": "markdown",
      "metadata": {
        "id": "Otr7WMp8cKW8"
      },
      "source": [
        "## Test our CBF recommender:\n",
        "\n",
        "#### We put everything in a Python class with a standard interface"
      ]
    },
    {
      "cell_type": "code",
      "metadata": {
        "id": "SlrQHqeKcKW8"
      },
      "source": [
        "from Recommenders.Similarity.Compute_Similarity_Python import Compute_Similarity_Python\n",
        "\n",
        "class ItemKNNCBFRecommender(object):\n",
        "    \n",
        "    def __init__(self, URM, ICM):\n",
        "        self.URM = URM\n",
        "        self.ICM = ICM\n",
        "        \n",
        "            \n",
        "    def fit(self, topK=50, shrink=100, normalize = True, similarity = \"cosine\"):\n",
        "        \n",
        "        similarity_object = Compute_Similarity_Python(self.ICM.T, shrink=shrink, \n",
        "                                                  topK=topK, normalize=normalize, \n",
        "                                                  similarity = similarity)\n",
        "        \n",
        "        self.W_sparse = similarity_object.compute_similarity()\n",
        "\n",
        "        \n",
        "    def recommend(self, user_id, at=None, exclude_seen=True):\n",
        "        # compute the scores using the dot product\n",
        "        user_profile = self.URM[user_id]\n",
        "        scores = user_profile.dot(self.W_sparse).toarray().ravel()\n",
        "\n",
        "        if exclude_seen:\n",
        "            scores = self.filter_seen(user_id, scores)\n",
        "\n",
        "        # rank items\n",
        "        ranking = scores.argsort()[::-1]\n",
        "            \n",
        "        return ranking[:at]\n",
        "    \n",
        "    \n",
        "    def filter_seen(self, user_id, scores):\n",
        "\n",
        "        start_pos = self.URM.indptr[user_id]\n",
        "        end_pos = self.URM.indptr[user_id+1]\n",
        "\n",
        "        user_profile = self.URM.indices[start_pos:end_pos]\n",
        "        \n",
        "        scores[user_profile] = -np.inf\n",
        "\n",
        "        return scores"
      ],
      "execution_count": 42,
      "outputs": []
    },
    {
      "cell_type": "code",
      "metadata": {
        "id": "RmpFEN1_cKW9",
        "colab": {
          "base_uri": "https://localhost:8080/"
        },
        "outputId": "420ab217-c9fb-4f23-e3f0-4a67d150c1b3"
      },
      "source": [
        "recommender = ItemKNNCBFRecommender(URM_train, ICM_all)\n",
        "recommender.fit(shrink=0.0, topK=100)"
      ],
      "execution_count": 43,
      "outputs": [
        {
          "output_type": "stream",
          "name": "stdout",
          "text": [
            "Similarity column 18059 (100.0%), 3113.12 column/sec. Elapsed time 5.80 sec\n"
          ]
        }
      ]
    },
    {
      "cell_type": "code",
      "metadata": {
        "id": "6WYcd0hOrBUD"
      },
      "source": [
        "def precision(recommended_items, relevant_items):\n",
        "    \n",
        "    is_relevant = np.in1d(recommended_items, relevant_items, assume_unique=True)\n",
        "    \n",
        "    precision_score = np.sum(is_relevant, dtype=np.float32) / len(is_relevant)\n",
        "    \n",
        "    return precision_score\n",
        "    \n",
        "def recall(recommended_items, relevant_items):\n",
        "    \n",
        "    is_relevant = np.in1d(recommended_items, relevant_items, assume_unique=True)\n",
        "    \n",
        "    recall_score = np.sum(is_relevant, dtype=np.float32) / relevant_items.shape[0]\n",
        "    \n",
        "    return recall_score\n",
        "\n",
        "def MAP(recommended_items, relevant_items):\n",
        "   \n",
        "    is_relevant = np.in1d(recommended_items, relevant_items, assume_unique=True)\n",
        "    \n",
        "    # Cumulative sum: precision at 1, at 2, at 3 ...\n",
        "    p_at_k = is_relevant * np.cumsum(is_relevant, dtype=np.float32) / (1 + np.arange(is_relevant.shape[0]))\n",
        "    \n",
        "    map_score = np.sum(p_at_k) / np.min([relevant_items.shape[0], is_relevant.shape[0]])\n",
        "\n",
        "    return map_score"
      ],
      "execution_count": 44,
      "outputs": []
    },
    {
      "cell_type": "code",
      "metadata": {
        "id": "zP-JIHEZrNeb"
      },
      "source": [
        "# We pass as paramether the recommender class\n",
        "\n",
        "def evaluate_algorithm(URM_test, recommender_object, at=10):\n",
        "    \n",
        "    cumulative_precision = 0.0\n",
        "    cumulative_recall = 0.0\n",
        "    cumulative_MAP = 0.0\n",
        "    \n",
        "    num_eval = 0\n",
        "\n",
        "\n",
        "    for user_id in range(URM_test.shape[0]):\n",
        "\n",
        "        relevant_items = URM_test.indices[URM_test.indptr[user_id]:URM_test.indptr[user_id+1]]\n",
        "        \n",
        "        if len(relevant_items)>0:\n",
        "            \n",
        "            recommended_items = recommender_object.recommend(user_id, at=at)\n",
        "            num_eval+=1\n",
        "\n",
        "            cumulative_precision += precision(recommended_items, relevant_items)\n",
        "            cumulative_recall += recall(recommended_items, relevant_items)\n",
        "            cumulative_MAP += MAP(recommended_items, relevant_items)\n",
        "            \n",
        "    cumulative_precision /= num_eval\n",
        "    cumulative_recall /= num_eval\n",
        "    cumulative_MAP /= num_eval\n",
        "    \n",
        "    print(\"Recommender results are: Precision = {:.4f}, Recall = {:.4f}, MAP = {:.4f}\".format(\n",
        "        cumulative_precision, cumulative_recall, cumulative_MAP)) "
      ],
      "execution_count": 45,
      "outputs": []
    },
    {
      "cell_type": "code",
      "metadata": {
        "id": "GokgtSGPrS7A",
        "colab": {
          "base_uri": "https://localhost:8080/"
        },
        "outputId": "a0b89b5e-cbf4-4848-f7b1-deeb49c17a91"
      },
      "source": [
        "evaluate_algorithm(URM_validation, recommender)"
      ],
      "execution_count": 46,
      "outputs": [
        {
          "output_type": "stream",
          "name": "stdout",
          "text": [
            "Recommender results are: Precision = 0.0568, Recall = 0.0089, MAP = 0.0207\n"
          ]
        }
      ]
    },
    {
      "cell_type": "code",
      "metadata": {
        "id": "6U0ANkaRcKW9",
        "colab": {
          "base_uri": "https://localhost:8080/"
        },
        "outputId": "a6c5625a-e36c-4b01-87ef-46243adf756d"
      },
      "source": [
        "for user_id in range(10):\n",
        "    print(recommender.recommend(user_id, at=5))"
      ],
      "execution_count": 47,
      "outputs": [
        {
          "output_type": "stream",
          "name": "stdout",
          "text": [
            "[14072 12984  6897  1577 17663]\n",
            "[ 1386  1239  1325 16332  2555]\n",
            "[3673 3721 3329 3637 3239]\n",
            "[ 1215  1496 15629 13496 11282]\n",
            "[5241 5938 3859 6364 8185]\n",
            "[15344  7576  7638  5048  2426]\n",
            "[ 7703 11161 12720 10886  3098]\n",
            "[ 8495  3992 14727   176  2698]\n",
            "[16181  3569 16221  3390  2547]\n",
            "[ 1367   570 10254 10289  4236]\n"
          ]
        }
      ]
    },
    {
      "cell_type": "markdown",
      "metadata": {
        "id": "mXFYyVuncKW-"
      },
      "source": [
        "#### Let's talk about speed\n",
        "\n",
        "#### Time to compute recommendations for a fixed group of users"
      ]
    },
    {
      "cell_type": "markdown",
      "metadata": {
        "id": "TQADo2FJcKW_"
      },
      "source": [
        "### Let's add a common mistake.... a CSC URM"
      ]
    },
    {
      "cell_type": "code",
      "metadata": {
        "id": "zqeaRo81Ts6J"
      },
      "source": [
        "#qui hyper param tuning non ancora usata"
      ],
      "execution_count": null,
      "outputs": []
    },
    {
      "cell_type": "markdown",
      "metadata": {
        "id": "48LxLjqhcKXA"
      },
      "source": [
        "## Hyperparameter tuning\n",
        "\n",
        "#### Once we have built our model we can play with its hyperparameters\n",
        "* Number of neighbors\n",
        "* Shrinkage\n",
        "* Similarity type"
      ]
    },
    {
      "cell_type": "markdown",
      "metadata": {
        "id": "CSdvMnr1cKXB"
      },
      "source": [
        "#### Number of neighbors"
      ]
    },
    {
      "cell_type": "code",
      "metadata": {
        "id": "JBLVmjl4cKXB",
        "outputId": "deb9bbb7-1857-42ae-d89b-1ec61c64bf3e"
      },
      "source": [
        "from Recommenders.KNN.ItemKNNCBFRecommender import ItemKNNCBFRecommender\n",
        "\n",
        "x_tick = [10, 50, 100, 200, 500]\n",
        "MAP_per_k = []\n",
        "\n",
        "for topK in x_tick:\n",
        "    \n",
        "    recommender = ItemKNNCBFRecommender(URM_train, ICM_all)\n",
        "    recommender.fit(shrink=0.0, topK=topK)\n",
        "    \n",
        "    result_df, _ = evaluator_test.evaluateRecommender(recommender)\n",
        "    \n",
        "    MAP_per_k.append(result_df.loc[10][\"MAP\"])"
      ],
      "execution_count": null,
      "outputs": [
        {
          "name": "stdout",
          "output_type": "stream",
          "text": [
            "ItemKNNCBFRecommender: URM Detected 1689 ( 2.4%) users with no interactions.\n",
            "ItemKNNCBFRecommender: URM Detected 65 ( 0.6%) items with no interactions.\n",
            "ItemKNNCBFRecommender: ICM Detected 3080 (28.8%) items with no features.\n",
            "Unable to load Cython Compute_Similarity, reverting to Python\n",
            "Similarity column 10681 (100.0%), 3852.52 column/sec. Elapsed time 2.77 sec\n",
            "EvaluatorHoldout: Processed 69801 (100.0%) in 52.88 sec. Users per second: 1320\n",
            "ItemKNNCBFRecommender: URM Detected 1689 ( 2.4%) users with no interactions.\n",
            "ItemKNNCBFRecommender: URM Detected 65 ( 0.6%) items with no interactions.\n",
            "ItemKNNCBFRecommender: ICM Detected 3080 (28.8%) items with no features.\n",
            "Unable to load Cython Compute_Similarity, reverting to Python\n",
            "Similarity column 10681 (100.0%), 2391.72 column/sec. Elapsed time 4.47 sec\n",
            "EvaluatorHoldout: Processed 69801 (100.0%) in 1.15 min. Users per second: 1014\n",
            "ItemKNNCBFRecommender: URM Detected 1689 ( 2.4%) users with no interactions.\n",
            "ItemKNNCBFRecommender: URM Detected 65 ( 0.6%) items with no interactions.\n",
            "ItemKNNCBFRecommender: ICM Detected 3080 (28.8%) items with no features.\n",
            "Unable to load Cython Compute_Similarity, reverting to Python\n",
            "Similarity column 10681 (100.0%), 3198.67 column/sec. Elapsed time 3.34 sec\n",
            "EvaluatorHoldout: Processed 69801 (100.0%) in 1.23 min. Users per second: 947\n",
            "ItemKNNCBFRecommender: URM Detected 1689 ( 2.4%) users with no interactions.\n",
            "ItemKNNCBFRecommender: URM Detected 65 ( 0.6%) items with no interactions.\n",
            "ItemKNNCBFRecommender: ICM Detected 3080 (28.8%) items with no features.\n",
            "Unable to load Cython Compute_Similarity, reverting to Python\n",
            "Similarity column 10681 (100.0%), 2101.78 column/sec. Elapsed time 5.08 sec\n",
            "EvaluatorHoldout: Processed 69801 (100.0%) in 1.30 min. Users per second: 895\n",
            "ItemKNNCBFRecommender: URM Detected 1689 ( 2.4%) users with no interactions.\n",
            "ItemKNNCBFRecommender: URM Detected 65 ( 0.6%) items with no interactions.\n",
            "ItemKNNCBFRecommender: ICM Detected 3080 (28.8%) items with no features.\n",
            "Unable to load Cython Compute_Similarity, reverting to Python\n",
            "Similarity column 10681 (100.0%), 1987.85 column/sec. Elapsed time 5.37 sec\n",
            "EvaluatorHoldout: Processed 69801 (100.0%) in 1.55 min. Users per second: 750\n"
          ]
        }
      ]
    },
    {
      "cell_type": "code",
      "metadata": {
        "id": "9o6GVvZwcKXC",
        "outputId": "f26f26fc-681d-4d87-a95a-071608120f1e"
      },
      "source": [
        "pyplot.plot(x_tick, MAP_per_k)\n",
        "pyplot.ylabel('MAP')\n",
        "pyplot.xlabel('TopK')\n",
        "pyplot.show()"
      ],
      "execution_count": null,
      "outputs": [
        {
          "data": {
            "image/png": "[encoded data removed]",
            "text/plain": [
              "<Figure size 432x288 with 1 Axes>"
            ]
          },
          "metadata": {},
          "output_type": "display_data"
        }
      ]
    },
    {
      "cell_type": "markdown",
      "metadata": {
        "id": "M8QY1F_0cKXC"
      },
      "source": [
        "#### On this dataset the number of neighbors has a limited impact on MAP. Fine-tuning around the best values is needed.\n",
        "\n",
        "#### Different datasets will behave in different ways."
      ]
    },
    {
      "cell_type": "markdown",
      "metadata": {
        "id": "gr7C_9pbcKXC"
      },
      "source": [
        "### Shrinkage"
      ]
    },
    {
      "cell_type": "code",
      "metadata": {
        "id": "cCOOZY5JcKXD",
        "outputId": "654743de-4325-4781-d928-1148e08c9954"
      },
      "source": [
        "x_tick = [0, 10, 50, 100, 200, 500]\n",
        "MAP_per_shrinkage = []\n",
        "\n",
        "for shrink in x_tick:\n",
        "    \n",
        "    recommender = ItemKNNCBFRecommender(URM_train, ICM_all)\n",
        "    recommender.fit(shrink=shrink, topK=100)\n",
        "    \n",
        "    result_df, _ = evaluator_test.evaluateRecommender(recommender)\n",
        "    \n",
        "    MAP_per_shrinkage.append(result_df.loc[10][\"MAP\"])"
      ],
      "execution_count": null,
      "outputs": [
        {
          "name": "stdout",
          "output_type": "stream",
          "text": [
            "ItemKNNCBFRecommender: URM Detected 1689 ( 2.4%) users with no interactions.\n",
            "ItemKNNCBFRecommender: URM Detected 65 ( 0.6%) items with no interactions.\n",
            "ItemKNNCBFRecommender: ICM Detected 3080 (28.8%) items with no features.\n",
            "Unable to load Cython Compute_Similarity, reverting to Python\n",
            "Similarity column 10681 (100.0%), 2267.18 column/sec. Elapsed time 4.71 sec\n",
            "EvaluatorHoldout: Processed 69801 (100.0%) in 1.17 min. Users per second: 992\n",
            "ItemKNNCBFRecommender: URM Detected 1689 ( 2.4%) users with no interactions.\n",
            "ItemKNNCBFRecommender: URM Detected 65 ( 0.6%) items with no interactions.\n",
            "ItemKNNCBFRecommender: ICM Detected 3080 (28.8%) items with no features.\n",
            "Unable to load Cython Compute_Similarity, reverting to Python\n",
            "Similarity column 10681 (100.0%), 2343.31 column/sec. Elapsed time 4.56 sec\n",
            "EvaluatorHoldout: Processed 69801 (100.0%) in 1.27 min. Users per second: 915\n",
            "ItemKNNCBFRecommender: URM Detected 1689 ( 2.4%) users with no interactions.\n",
            "ItemKNNCBFRecommender: URM Detected 65 ( 0.6%) items with no interactions.\n",
            "ItemKNNCBFRecommender: ICM Detected 3080 (28.8%) items with no features.\n",
            "Unable to load Cython Compute_Similarity, reverting to Python\n",
            "Similarity column 10681 (100.0%), 2385.21 column/sec. Elapsed time 4.48 sec\n",
            "EvaluatorHoldout: Processed 69801 (100.0%) in 1.32 min. Users per second: 884\n",
            "ItemKNNCBFRecommender: URM Detected 1689 ( 2.4%) users with no interactions.\n",
            "ItemKNNCBFRecommender: URM Detected 65 ( 0.6%) items with no interactions.\n",
            "ItemKNNCBFRecommender: ICM Detected 3080 (28.8%) items with no features.\n",
            "Similarity column 10681 (100.0%), 8032.24 column/sec. Elapsed time 1.33 sec\n",
            "EvaluatorHoldout: Processed 69801 (100.0%) in 1.30 min. Users per second: 894\n",
            "ItemKNNCBFRecommender: URM Detected 1689 ( 2.4%) users with no interactions.\n",
            "ItemKNNCBFRecommender: URM Detected 65 ( 0.6%) items with no interactions.\n",
            "ItemKNNCBFRecommender: ICM Detected 3080 (28.8%) items with no features.\n",
            "Similarity column 10681 (100.0%), 7917.81 column/sec. Elapsed time 1.35 sec\n",
            "EvaluatorHoldout: Processed 69801 (100.0%) in 1.32 min. Users per second: 884\n",
            "ItemKNNCBFRecommender: URM Detected 1689 ( 2.4%) users with no interactions.\n",
            "ItemKNNCBFRecommender: URM Detected 65 ( 0.6%) items with no interactions.\n",
            "ItemKNNCBFRecommender: ICM Detected 3080 (28.8%) items with no features.\n",
            "Similarity column 10681 (100.0%), 7877.73 column/sec. Elapsed time 1.36 sec\n",
            "EvaluatorHoldout: Processed 69801 (100.0%) in 1.34 min. Users per second: 866\n"
          ]
        }
      ]
    },
    {
      "cell_type": "code",
      "metadata": {
        "id": "A1Tf6dr-cKXD",
        "outputId": "1b81965a-d1c4-4b47-88b8-438e7a811fe2"
      },
      "source": [
        "pyplot.plot(x_tick, MAP_per_shrinkage)\n",
        "pyplot.ylabel('MAP')\n",
        "pyplot.xlabel('Shrinkage')\n",
        "pyplot.show()"
      ],
      "execution_count": null,
      "outputs": [
        {
          "data": {
            "image/png": "[encoded data removed]",
            "text/plain": [
              "<Figure size 432x288 with 1 Axes>"
            ]
          },
          "metadata": {},
          "output_type": "display_data"
        }
      ]
    },
    {
      "cell_type": "markdown",
      "metadata": {
        "id": "7Mt2OcbmcKXD"
      },
      "source": [
        "#### The shrinkage value (i.e. support) have a much stronger impact. Combine a parameter search with the two to ensure maximum recommendation quality\n",
        "\n",
        "## Be careful, overfitting!\n",
        "\n",
        "#### While a thorough parameter tuning might result in significantly higher MAP on your validation split, it could have only marginally better or even worse MAP on the test set"
      ]
    },
    {
      "cell_type": "markdown",
      "metadata": {
        "id": "ghxd9eAicKXD"
      },
      "source": [
        "# Feature weighting"
      ]
    },
    {
      "cell_type": "markdown",
      "metadata": {
        "collapsed": true,
        "id": "wLVO9KrncKXE"
      },
      "source": [
        "# IDF"
      ]
    },
    {
      "cell_type": "markdown",
      "metadata": {
        "id": "VrmixpyacKXE"
      },
      "source": [
        "![title](https://www.link-assistant.com/images/news/tf-idf-tool-for-seo/screen-03.png)"
      ]
    },
    {
      "cell_type": "code",
      "metadata": {
        "id": "eCOn4FMccKXE",
        "outputId": "11a8d2a0-35df-4822-a4c5-f228e35e1120"
      },
      "source": [
        "num_tot_items = ICM_all.shape[0]\n",
        "\n",
        "# let's count how many items have a certain feature\n",
        "items_per_feature = np.ediff1d(sps.csc_matrix(ICM_all).indptr)\n",
        "\n",
        "IDF = np.log(num_tot_items / items_per_feature)\n",
        "\n",
        "print(ICM_all.shape)\n",
        "print(IDF.shape)"
      ],
      "execution_count": null,
      "outputs": [
        {
          "name": "stdout",
          "output_type": "stream",
          "text": [
            "(10681, 16529)\n",
            "(16529,)\n"
          ]
        }
      ]
    },
    {
      "cell_type": "code",
      "metadata": {
        "id": "vpmJZSUCcKXE",
        "outputId": "d05a107e-c67f-4390-94a6-52afb705d6e0"
      },
      "source": [
        "np.sort(items_per_feature)"
      ],
      "execution_count": null,
      "outputs": [
        {
          "data": {
            "text/plain": [
              "array([  1,   1,   1, ..., 404, 492, 640], dtype=int32)"
            ]
          },
          "execution_count": 54,
          "metadata": {},
          "output_type": "execute_result"
        }
      ]
    },
    {
      "cell_type": "code",
      "metadata": {
        "id": "yJqcNjYtcKXF",
        "outputId": "0944032a-7557-4827-ac60-432a924f0aff"
      },
      "source": [
        "np.sort(IDF)"
      ],
      "execution_count": null,
      "outputs": [
        {
          "data": {
            "text/plain": [
              "array([2.81475356, 3.07774302, 3.27480686, ..., 9.27622174, 9.27622174,\n",
              "       9.27622174])"
            ]
          },
          "execution_count": 55,
          "metadata": {},
          "output_type": "execute_result"
        }
      ]
    },
    {
      "cell_type": "code",
      "metadata": {
        "id": "v7fEg6jDcKXF",
        "outputId": "0587b01f-4435-435e-bd79-7ed3aae6e61d"
      },
      "source": [
        "pyplot.plot(np.sort(IDF))\n",
        "pyplot.ylabel('IDF')\n",
        "pyplot.xlabel('Sorted feature')\n",
        "pyplot.show()"
      ],
      "execution_count": null,
      "outputs": [
        {
          "data": {
            "image/png": "[encoded data removed]",
            "text/plain": [
              "<Figure size 432x288 with 1 Axes>"
            ]
          },
          "metadata": {},
          "output_type": "display_data"
        }
      ]
    },
    {
      "cell_type": "markdown",
      "metadata": {
        "id": "JHKd4lJ4cKXF"
      },
      "source": [
        "#### Highest ranked features"
      ]
    },
    {
      "cell_type": "code",
      "metadata": {
        "id": "mU5-vaEQcKXG"
      },
      "source": [
        "feature_index_to_original_ID_dict = {value:key for key,value in feature_original_ID_to_index_dict.items()}"
      ],
      "execution_count": null,
      "outputs": []
    },
    {
      "cell_type": "code",
      "metadata": {
        "id": "Pus0CiKzcKXI",
        "outputId": "27c7a221-06bc-438b-c447-2b463ab3d3b9"
      },
      "source": [
        "sorted_features = np.argsort(-IDF)\n",
        "\n",
        "highest_ranked_features = sorted_features[:20]\n",
        "\n",
        "for feature_index in highest_ranked_features:\n",
        "    print(feature_index_to_original_ID_dict[feature_index])"
      ],
      "execution_count": null,
      "outputs": [
        {
          "name": "stdout",
          "output_type": "stream",
          "text": [
            "Tour de France\n",
            "Parkour: Getting Around Obstacles A Great Complement To Being Alive\n",
            "I Guess Nude Terminators Can't Kill A Really Bad Film\n",
            "The Whole Tromeo & Juliet Threw Me Off But Thank Gawd They Didn't Talk Like Bill The Spear Shaker\n",
            "What If The Big Bad Wolf & Grandma Were Swapping Spit?\n",
            "An Orifice & A Gentle Hand Refried For '06\n",
            "Read All The Negative Reviews & Save 2 Hours Of Your Life!\n",
            "'Lemme Get This Straight. You Have No Idea Who You Are But You Wanna Be Famous?'\n",
            "If I See One More Roast Beef Sandwich You Will Smell My Reaction\n",
            "Obviously Hillary Had A Different Meaning For \"Secret Service\"\n",
            "Ethan Hunt Should Stop Hogging The Screen!\n",
            "'Priceline Negotiator!'\n",
            "The Power Of The P\n",
            "Believe In Your Ability To See Stoopid Plotlines\n",
            "Not Even Uma Could Save This Dizaster! Wanda Yikes!\n",
            "It's Not Size Of Your Stick But Why You Keep On Swingin' It!\n",
            "'So How Did Lois Survive Date Nite?'\n",
            "A Comedy Version Of Matchpoint\n",
            "You Would Do Anything In The Universe To Get Rachael Weisz Back As Well\n",
            "Or How The Last Of The Mohican Killed The Predator Escaping From The Thunderdome\n"
          ]
        }
      ]
    },
    {
      "cell_type": "markdown",
      "metadata": {
        "id": "5fE2caMqcKXI"
      },
      "source": [
        "#### Lowest ranked features"
      ]
    },
    {
      "cell_type": "code",
      "metadata": {
        "id": "HdlCU4lUcKXJ",
        "outputId": "b132f452-04b7-4109-e492-c59f292ce084"
      },
      "source": [
        "lowest_ranked_features = sorted_features[-20:]\n",
        "\n",
        "for feature_index in lowest_ranked_features:\n",
        "    print(feature_index_to_original_ID_dict[feature_index])    "
      ],
      "execution_count": null,
      "outputs": [
        {
          "name": "stdout",
          "output_type": "stream",
          "text": [
            "atmospheric\n",
            "library\n",
            "seen more than once\n",
            "Nudity (Topless - Brief)\n",
            "To See\n",
            "adapted from:book\n",
            "imdb top 250\n",
            "Can't remember\n",
            "classic\n",
            "Bibliothek\n",
            "Betamax\n",
            "National Film Registry\n",
            "movie to see\n",
            "Nudity (Topless)\n",
            "based on a book\n",
            "70mm\n",
            "R\n",
            "erlend's DVDs\n",
            "less than 300 ratings\n",
            "Tumey's DVDs\n"
          ]
        }
      ]
    },
    {
      "cell_type": "code",
      "metadata": {
        "id": "9elOkBUAcKXJ",
        "outputId": "4738929c-4afd-41b0-e2cf-fe219492db85"
      },
      "source": [
        "from scipy.sparse import diags\n",
        "diags(IDF)"
      ],
      "execution_count": null,
      "outputs": [
        {
          "data": {
            "text/plain": [
              "<16529x16529 sparse matrix of type '<class 'numpy.float64'>'\n",
              "\twith 16529 stored elements (1 diagonals) in DIAgonal format>"
            ]
          },
          "execution_count": 60,
          "metadata": {},
          "output_type": "execute_result"
        }
      ]
    },
    {
      "cell_type": "code",
      "metadata": {
        "id": "m_8KFAnhcKXK"
      },
      "source": [
        "ICM_idf = ICM_all.copy()\n",
        "\n",
        "ICM_idf = ICM_idf*diags(IDF)"
      ],
      "execution_count": null,
      "outputs": []
    },
    {
      "cell_type": "code",
      "metadata": {
        "id": "igVzu9H0cKXK",
        "scrolled": true,
        "outputId": "7825dd8e-1048-42bc-f3e2-361880e58b5c"
      },
      "source": [
        "recommender_idf = ItemKNNCBFRecommender(URM_train, ICM_idf)\n",
        "recommender_idf.fit(shrink=0.0, topK=50)\n",
        "\n",
        "result_df, _ = evaluator_test.evaluateRecommender(recommender_idf)\n",
        "result_df.loc[10]"
      ],
      "execution_count": null,
      "outputs": [
        {
          "name": "stdout",
          "output_type": "stream",
          "text": [
            "ItemKNNCBFRecommender: URM Detected 1689 ( 2.4%) users with no interactions.\n",
            "ItemKNNCBFRecommender: URM Detected 65 ( 0.6%) items with no interactions.\n",
            "ItemKNNCBFRecommender: ICM Detected 3080 (28.8%) items with no features.\n",
            "Similarity column 10681 (100.0%), 12570.16 column/sec. Elapsed time 0.85 sec\n",
            "EvaluatorHoldout: Processed 69801 (100.0%) in 1.11 min. Users per second: 1046\n"
          ]
        },
        {
          "data": {
            "text/plain": [
              "PRECISION                     0.064612\n",
              "PRECISION_RECALL_MIN_DEN      0.069536\n",
              "RECALL                        0.031595\n",
              "MAP                           0.033033\n",
              "MAP_MIN_DEN                   0.035236\n",
              "MRR                           0.182019\n",
              "NDCG                           0.06165\n",
              "F1                            0.042438\n",
              "HIT_RATE                      0.361528\n",
              "ARHR_ALL_HITS                 0.242267\n",
              "NOVELTY                       0.012861\n",
              "AVERAGE_POPULARITY            0.145178\n",
              "DIVERSITY_MEAN_INTER_LIST     0.974787\n",
              "DIVERSITY_HERFINDAHL          0.997477\n",
              "COVERAGE_ITEM                 0.497051\n",
              "COVERAGE_ITEM_CORRECT          0.12012\n",
              "COVERAGE_USER                 0.975324\n",
              "COVERAGE_USER_CORRECT         0.352607\n",
              "DIVERSITY_GINI                0.085107\n",
              "SHANNON_ENTROPY                9.97297\n",
              "RATIO_DIVERSITY_HERFINDAHL    0.998231\n",
              "RATIO_DIVERSITY_GINI          0.437404\n",
              "RATIO_SHANNON_ENTROPY         0.880689\n",
              "RATIO_AVERAGE_POPULARITY      0.517932\n",
              "RATIO_NOVELTY                 0.135647\n",
              "Name: 10, dtype: object"
            ]
          },
          "execution_count": 62,
          "metadata": {},
          "output_type": "execute_result"
        }
      ]
    },
    {
      "cell_type": "markdown",
      "metadata": {
        "id": "itn6gdg8cKXN"
      },
      "source": [
        "#### Try other feature weighting methods like BM25..."
      ]
    },
    {
      "cell_type": "markdown",
      "metadata": {
        "id": "0NG2deqrcKXN"
      },
      "source": [
        "# BM25"
      ]
    },
    {
      "cell_type": "code",
      "metadata": {
        "id": "DyULlwxxcKXN"
      },
      "source": [
        "from Recommenders.IR_feature_weighting import okapi_BM_25\n",
        "\n",
        "ICM_BM25 = ICM_all.copy().astype(np.float32)\n",
        "ICM_BM25 = okapi_BM_25(ICM_BM25)\n",
        "ICM_BM25 = ICM_BM25.tocsr()"
      ],
      "execution_count": null,
      "outputs": []
    },
    {
      "cell_type": "code",
      "metadata": {
        "id": "Cl6W14_CcKXO",
        "scrolled": true,
        "outputId": "b93e440b-385b-4eb8-8f81-3b221844347c"
      },
      "source": [
        "recommender_bm25 = ItemKNNCBFRecommender(URM_train, ICM_BM25)\n",
        "recommender_bm25.fit(shrink=0.0, topK=50)\n",
        "\n",
        "result_df, _ = evaluator_test.evaluateRecommender(recommender_bm25)\n",
        "result_df.loc[10]"
      ],
      "execution_count": null,
      "outputs": [
        {
          "name": "stdout",
          "output_type": "stream",
          "text": [
            "ItemKNNCBFRecommender: URM Detected 1689 ( 2.4%) users with no interactions.\n",
            "ItemKNNCBFRecommender: URM Detected 65 ( 0.6%) items with no interactions.\n",
            "ItemKNNCBFRecommender: ICM Detected 3080 (28.8%) items with no features.\n",
            "Similarity column 10681 (100.0%), 7833.88 column/sec. Elapsed time 1.36 sec\n",
            "EvaluatorHoldout: Processed 69801 (100.0%) in 1.11 min. Users per second: 1047\n"
          ]
        },
        {
          "data": {
            "text/plain": [
              "PRECISION                     0.068167\n",
              "PRECISION_RECALL_MIN_DEN      0.073332\n",
              "RECALL                        0.033192\n",
              "MAP                           0.035112\n",
              "MAP_MIN_DEN                   0.037427\n",
              "MRR                           0.190268\n",
              "NDCG                           0.06501\n",
              "F1                            0.044645\n",
              "HIT_RATE                      0.374851\n",
              "ARHR_ALL_HITS                   0.2552\n",
              "NOVELTY                       0.012731\n",
              "AVERAGE_POPULARITY            0.156639\n",
              "DIVERSITY_MEAN_INTER_LIST     0.973207\n",
              "DIVERSITY_HERFINDAHL          0.997319\n",
              "COVERAGE_ITEM                  0.49986\n",
              "COVERAGE_ITEM_CORRECT         0.120682\n",
              "COVERAGE_USER                 0.975324\n",
              "COVERAGE_USER_CORRECT         0.365601\n",
              "DIVERSITY_GINI                0.083708\n",
              "SHANNON_ENTROPY               9.925844\n",
              "RATIO_DIVERSITY_HERFINDAHL    0.998072\n",
              "RATIO_DIVERSITY_GINI          0.430212\n",
              "RATIO_SHANNON_ENTROPY         0.876528\n",
              "RATIO_AVERAGE_POPULARITY      0.558818\n",
              "RATIO_NOVELTY                 0.134279\n",
              "Name: 10, dtype: object"
            ]
          },
          "execution_count": 64,
          "metadata": {},
          "output_type": "execute_result"
        }
      ]
    },
    {
      "cell_type": "markdown",
      "metadata": {
        "id": "NhML5y0XcKXO"
      },
      "source": [
        "#### A small gain over TF-IDF"
      ]
    },
    {
      "cell_type": "markdown",
      "metadata": {
        "id": "DngmIjV_cKXO"
      },
      "source": [
        "# Unnormalized similarity matrix"
      ]
    },
    {
      "cell_type": "code",
      "metadata": {
        "id": "0HpNRdGAcKXP",
        "outputId": "4a266eab-8eb9-4fbc-fb17-d1c8f90d26be"
      },
      "source": [
        "recommender_dot = ItemKNNCBFRecommender(URM_train, ICM_all)\n",
        "recommender_dot.W_sparse = ICM_all * ICM_all.T\n",
        "\n",
        "result_df, _ = evaluator_test.evaluateRecommender(recommender_dot)\n",
        "result_df.loc[10]"
      ],
      "execution_count": null,
      "outputs": [
        {
          "name": "stdout",
          "output_type": "stream",
          "text": [
            "ItemKNNCBFRecommender: URM Detected 1689 ( 2.4%) users with no interactions.\n",
            "ItemKNNCBFRecommender: URM Detected 65 ( 0.6%) items with no interactions.\n",
            "ItemKNNCBFRecommender: ICM Detected 3080 (28.8%) items with no features.\n",
            "EvaluatorHoldout: Processed 69801 (100.0%) in 1.89 min. Users per second: 617\n"
          ]
        },
        {
          "data": {
            "text/plain": [
              "PRECISION                     0.123245\n",
              "PRECISION_RECALL_MIN_DEN      0.133744\n",
              "RECALL                         0.05978\n",
              "MAP                            0.06813\n",
              "MAP_MIN_DEN                    0.07305\n",
              "MRR                           0.326255\n",
              "NDCG                          0.129399\n",
              "F1                            0.080509\n",
              "HIT_RATE                      0.583459\n",
              "ARHR_ALL_HITS                 0.461001\n",
              "NOVELTY                       0.008514\n",
              "AVERAGE_POPULARITY            0.582362\n",
              "DIVERSITY_MEAN_INTER_LIST     0.599285\n",
              "DIVERSITY_HERFINDAHL          0.959928\n",
              "COVERAGE_ITEM                 0.047374\n",
              "COVERAGE_ITEM_CORRECT         0.017508\n",
              "COVERAGE_USER                 0.975324\n",
              "COVERAGE_USER_CORRECT         0.569061\n",
              "DIVERSITY_GINI                0.002435\n",
              "SHANNON_ENTROPY               5.044842\n",
              "RATIO_DIVERSITY_HERFINDAHL    0.960653\n",
              "RATIO_DIVERSITY_GINI          0.012517\n",
              "RATIO_SHANNON_ENTROPY         0.445498\n",
              "RATIO_AVERAGE_POPULARITY      2.077612\n",
              "RATIO_NOVELTY                 0.089805\n",
              "Name: 10, dtype: object"
            ]
          },
          "execution_count": 65,
          "metadata": {},
          "output_type": "execute_result"
        }
      ]
    },
    {
      "cell_type": "code",
      "metadata": {
        "id": "K5bYqBuIcKXP"
      },
      "source": [
        "import pandas as pd\n",
        "import numpy as np \n",
        "import scipy.sparse as sps\n",
        "import os\n",
        "import sys\n",
        "import matplotlib.pyplot as plt"
      ],
      "execution_count": null,
      "outputs": []
    },
    {
      "cell_type": "code",
      "metadata": {
        "colab": {
          "base_uri": "https://localhost:8080/"
        },
        "id": "wwotZg8uMQ8E",
        "outputId": "e4f8b5cd-e5dc-4eba-ac12-0d9f2e221df9"
      },
      "source": [
        "from google.colab import drive \n",
        "drive.mount('/content/gdrive')"
      ],
      "execution_count": null,
      "outputs": [
        {
          "name": "stdout",
          "output_type": "stream",
          "text": [
            "Mounted at /content/gdrive\n"
          ]
        }
      ]
    },
    {
      "cell_type": "code",
      "metadata": {
        "id": "d1TT4LYsMr6I"
      },
      "source": [
        "import pandas as pd\n",
        "\n",
        "URM_all_dataframe = pd.read_csv(data_train_path,\n",
        "                                dtype={0:int, 1:int, 2:int})\n",
        "#URM_all_dataframe.columns = [\"UserID\", \"ItemID\", \"Interaction\"]\n",
        "\n",
        "URM_all_dataframe.head(n=50)\n",
        "\n",
        "#INIZIAMO PRENDENDO ICM GENRE\n",
        "\n",
        "icm_file_name = data_path + \"data_ICM_genre.csv\"\n",
        "\n",
        "\n",
        "ICM_all_dataframe = pd.read_csv(icm_file_name,\n",
        "                                dtype={0:int, 1:int, 2:int})\n",
        "\n",
        "#ICM_all_dataframe.columns = [\"ItemID\", \"GenreID\", \"Interaction\"]"
      ],
      "execution_count": null,
      "outputs": []
    },
    {
      "cell_type": "code",
      "metadata": {
        "colab": {
          "base_uri": "https://localhost:8080/"
        },
        "id": "faWaSYiGNDMI",
        "outputId": "5c376772-d00a-4d93-f917-96e1cbc56c7d"
      },
      "source": [
        "users = URM_all_dataframe.row\n",
        "items = URM_all_dataframe.col\n",
        "data = URM_all_dataframe.data\n",
        "URM_all = sps.coo_matrix((data, (users, items)))\n",
        "URM_all = URM_all.tocsr() #fast row access -> fast access to users \n",
        "URM_all.shape"
      ],
      "execution_count": null,
      "outputs": [
        {
          "data": {
            "text/plain": [
              "(13650, 18059)"
            ]
          },
          "execution_count": 7,
          "metadata": {},
          "output_type": "execute_result"
        }
      ]
    },
    {
      "cell_type": "code",
      "metadata": {
        "colab": {
          "base_uri": "https://localhost:8080/"
        },
        "id": "Yffom2K2N5Oh",
        "outputId": "ad5c807b-5523-46a9-bc06-4b3708b82da5"
      },
      "source": [
        "items = ICM_all_dataframe.row\n",
        "features = ICM_all_dataframe.col\n",
        "data = ICM_all_dataframe.data\n",
        "ICM_all = sps.coo_matrix((data, (items, features)))\n",
        "ICM_all = ICM_all.tocsr() #fast row access -> fast access to users \n",
        "ICM_all.shape"
      ],
      "execution_count": null,
      "outputs": [
        {
          "data": {
            "text/plain": [
              "(18059, 8)"
            ]
          },
          "execution_count": 8,
          "metadata": {},
          "output_type": "execute_result"
        }
      ]
    },
    {
      "cell_type": "code",
      "metadata": {
        "id": "ik2MtH37N3x5"
      },
      "source": [
        "#sistemare lo split e usare evaluator del prof\n",
        "\n"
      ],
      "execution_count": null,
      "outputs": []
    },
    {
      "cell_type": "code",
      "metadata": {
        "colab": {
          "base_uri": "https://localhost:8080/"
        },
        "id": "yLodkLCvPLSm",
        "outputId": "9f29d570-1626-46a2-b284-03a9d97e713c"
      },
      "source": [
        "from google.colab import drive\n",
        "drive.mount('/content/drive')\n",
        "\n"
      ],
      "execution_count": null,
      "outputs": [
        {
          "name": "stdout",
          "output_type": "stream",
          "text": [
            "Drive already mounted at /content/drive; to attempt to forcibly remount, call drive.mount(\"/content/drive\", force_remount=True).\n"
          ]
        }
      ]
    },
    {
      "cell_type": "code",
      "metadata": {
        "colab": {
          "base_uri": "https://localhost:8080/"
        },
        "id": "qgGE4J6IQ6OG",
        "outputId": "c53e1b82-c21f-4f9c-b121-2f68759772c3"
      },
      "source": [
        "%ls\n"
      ],
      "execution_count": null,
      "outputs": [
        {
          "name": "stdout",
          "output_type": "stream",
          "text": [
            "ls: cannot access 'gdrive': Transport endpoint is not connected\n",
            "\u001b[0m\u001b[01;34mdrive\u001b[0m/  \u001b[01;34mgdrive\u001b[0m/  \u001b[01;34msample_data\u001b[0m/\n"
          ]
        }
      ]
    },
    {
      "cell_type": "code",
      "metadata": {
        "colab": {
          "base_uri": "https://localhost:8080/"
        },
        "id": "VqrPx_YURCAC",
        "outputId": "b53e958a-5687-4bef-f387-dee0abf33f57"
      },
      "source": [
        "%cd "
      ],
      "execution_count": null,
      "outputs": [
        {
          "name": "stdout",
          "output_type": "stream",
          "text": [
            "/root\n"
          ]
        }
      ]
    },
    {
      "cell_type": "code",
      "metadata": {
        "id": "69cQdLvMSTbz"
      },
      "source": [
        "import sys\n",
        "sys.path.append('/content/drive/MyDrive/recsys/mypythondirectory')"
      ],
      "execution_count": null,
      "outputs": []
    },
    {
      "cell_type": "code",
      "metadata": {
        "colab": {
          "base_uri": "https://localhost:8080/",
          "height": 419
        },
        "id": "JbN-KJ4tXYbL",
        "outputId": "268c1e35-5f62-4bc9-b2a5-8acd2ef54fff"
      },
      "source": [
        "\n",
        "#from RecSys_Course_AT_PoliMi.Evaluation.Evaluator import EvaluatorHoldout"
      ],
      "execution_count": null,
      "outputs": [
        {
          "ename": "ModuleNotFoundError",
          "evalue": "ignored",
          "output_type": "error",
          "traceback": [
            "\u001b[0;31m---------------------------------------------------------------------------\u001b[0m",
            "\u001b[0;31mModuleNotFoundError\u001b[0m                       Traceback (most recent call last)",
            "\u001b[0;32m<ipython-input-39-f0a4d2a4721d>\u001b[0m in \u001b[0;36m<module>\u001b[0;34m()\u001b[0m\n\u001b[0;32m----> 1\u001b[0;31m \u001b[0;32mfrom\u001b[0m \u001b[0mRecSys_Course_AT_PoliMi\u001b[0m\u001b[0;34m.\u001b[0m\u001b[0mEvaluation\u001b[0m\u001b[0;34m.\u001b[0m\u001b[0mEvaluator\u001b[0m \u001b[0;32mimport\u001b[0m \u001b[0mEvaluatorHoldout\u001b[0m\u001b[0;34m\u001b[0m\u001b[0;34m\u001b[0m\u001b[0m\n\u001b[0m",
            "\u001b[0;32m/content/gdrive/My Drive/recsys/notebooks/RecSys_Course_AT_PoliMi/Evaluation/Evaluator.py\u001b[0m in \u001b[0;36m<module>\u001b[0;34m()\u001b[0m\n\u001b[1;32m     13\u001b[0m \u001b[0;34m\u001b[0m\u001b[0m\n\u001b[1;32m     14\u001b[0m \u001b[0;32mfrom\u001b[0m \u001b[0menum\u001b[0m \u001b[0;32mimport\u001b[0m \u001b[0mEnum\u001b[0m\u001b[0;34m\u001b[0m\u001b[0;34m\u001b[0m\u001b[0m\n\u001b[0;32m---> 15\u001b[0;31m \u001b[0;32mfrom\u001b[0m \u001b[0mUtils\u001b[0m\u001b[0;34m.\u001b[0m\u001b[0mseconds_to_biggest_unit\u001b[0m \u001b[0;32mimport\u001b[0m \u001b[0mseconds_to_biggest_unit\u001b[0m\u001b[0;34m\u001b[0m\u001b[0;34m\u001b[0m\u001b[0m\n\u001b[0m\u001b[1;32m     16\u001b[0m \u001b[0;34m\u001b[0m\u001b[0m\n\u001b[1;32m     17\u001b[0m \u001b[0;32mfrom\u001b[0m \u001b[0mEvaluation\u001b[0m\u001b[0;34m.\u001b[0m\u001b[0mmetrics\u001b[0m \u001b[0;32mimport\u001b[0m \u001b[0mprecision\u001b[0m\u001b[0;34m,\u001b[0m \u001b[0mprecision_recall_min_denominator\u001b[0m\u001b[0;34m,\u001b[0m \u001b[0mrecall\u001b[0m\u001b[0;34m,\u001b[0m \u001b[0mMAP\u001b[0m\u001b[0;34m,\u001b[0m \u001b[0mMAP_MIN_DEN\u001b[0m\u001b[0;34m,\u001b[0m \u001b[0mMRR\u001b[0m\u001b[0;34m,\u001b[0m \u001b[0mHIT_RATE\u001b[0m\u001b[0;34m,\u001b[0m \u001b[0mndcg\u001b[0m\u001b[0;34m,\u001b[0m \u001b[0marhr_all_hits\u001b[0m\u001b[0;34m,\u001b[0m\u001b[0;31m \u001b[0m\u001b[0;31m\\\u001b[0m\u001b[0;34m\u001b[0m\u001b[0;34m\u001b[0m\u001b[0m\n",
            "\u001b[0;31mModuleNotFoundError\u001b[0m: No module named 'Utils'",
            "",
            "\u001b[0;31m---------------------------------------------------------------------------\u001b[0;32m\nNOTE: If your import is failing due to a missing package, you can\nmanually install dependencies using either !pip or !apt.\n\nTo view examples of installing some common dependencies, click the\n\"Open Examples\" button below.\n\u001b[0;31m---------------------------------------------------------------------------\u001b[0m\n"
          ]
        }
      ]
    },
    {
      "cell_type": "code",
      "metadata": {
        "colab": {
          "base_uri": "https://localhost:8080/",
          "height": 368
        },
        "id": "xJTKZVVJP3TS",
        "outputId": "90b316ca-12d8-4b1e-ffd4-56f16582170e"
      },
      "source": [
        "!cp drive/MyDrive/Evaluator.py\n",
        "import EvaluatorHoldout\n",
        "from Data_manager.split_functions.split_train_validation_random_holdout import split_train_in_two_percentage_global_sample\n",
        "\n",
        "#splitting data into train and validation (from the previous training data)\n",
        "URM_train, URM_validation = split_train_in_two_percentage_global_sample(URM_all, train_percentage = 0.85)"
      ],
      "execution_count": null,
      "outputs": [
        {
          "ename": "ModuleNotFoundError",
          "evalue": "ignored",
          "output_type": "error",
          "traceback": [
            "\u001b[0;31m---------------------------------------------------------------------------\u001b[0m",
            "\u001b[0;31mModuleNotFoundError\u001b[0m                       Traceback (most recent call last)",
            "\u001b[0;32m<ipython-input-35-38f5b804d8dc>\u001b[0m in \u001b[0;36m<module>\u001b[0;34m()\u001b[0m\n\u001b[1;32m      1\u001b[0m \u001b[0;31m#!cp drive/MyDrive/Evaluator.py\u001b[0m\u001b[0;34m\u001b[0m\u001b[0;34m\u001b[0m\u001b[0;34m\u001b[0m\u001b[0m\n\u001b[0;32m----> 2\u001b[0;31m \u001b[0;32mimport\u001b[0m \u001b[0mEvaluation\u001b[0m\u001b[0;34m.\u001b[0m\u001b[0mEvaluatorHoldout\u001b[0m\u001b[0;34m\u001b[0m\u001b[0;34m\u001b[0m\u001b[0m\n\u001b[0m\u001b[1;32m      3\u001b[0m \u001b[0;32mfrom\u001b[0m \u001b[0mData_manager\u001b[0m\u001b[0;34m.\u001b[0m\u001b[0msplit_functions\u001b[0m\u001b[0;34m.\u001b[0m\u001b[0msplit_train_validation_random_holdout\u001b[0m \u001b[0;32mimport\u001b[0m \u001b[0msplit_train_in_two_percentage_global_sample\u001b[0m\u001b[0;34m\u001b[0m\u001b[0;34m\u001b[0m\u001b[0m\n\u001b[1;32m      4\u001b[0m \u001b[0;34m\u001b[0m\u001b[0m\n\u001b[1;32m      5\u001b[0m \u001b[0;31m#splitting data into train and validation (from the previous training data)\u001b[0m\u001b[0;34m\u001b[0m\u001b[0;34m\u001b[0m\u001b[0;34m\u001b[0m\u001b[0m\n",
            "\u001b[0;31mModuleNotFoundError\u001b[0m: No module named 'Evaluation'",
            "",
            "\u001b[0;31m---------------------------------------------------------------------------\u001b[0;32m\nNOTE: If your import is failing due to a missing package, you can\nmanually install dependencies using either !pip or !apt.\n\nTo view examples of installing some common dependencies, click the\n\"Open Examples\" button below.\n\u001b[0;31m---------------------------------------------------------------------------\u001b[0m\n"
          ]
        }
      ]
    },
    {
      "cell_type": "code",
      "metadata": {
        "id": "wBcwWA7SP27y"
      },
      "source": [
        "#evaluator for validation (used for hyperparameter tuning)\n",
        "evaluator_validation = EvaluatorHoldout(URM_validation, cutoff_list=[10])"
      ],
      "execution_count": null,
      "outputs": []
    },
    {
      "cell_type": "code",
      "metadata": {
        "id": "udyFiCEgQOEG"
      },
      "source": [
        "from KNN.ItemKNNCBFRecommender import ItemKNNCBFRecommender\n",
        "from KNN.ItemKNNSimilarityHybridRecommender import ItemKNNSimilarityHybridRecommender\n",
        "\n",
        "recommender = ItemKNNCBFRecommender(URM_train, ICM_all)"
      ],
      "execution_count": null,
      "outputs": []
    },
    {
      "cell_type": "code",
      "metadata": {
        "id": "NDsoBza0QTSQ"
      },
      "source": [
        "x_tick = []\n",
        "collaborative_MAP = []\n",
        "\n",
        "for topK in [100,200,300,500,600, 625, 650, 700]:\n",
        "    for shrink in [50,100,150,190,200,250,300,400,500]:\n",
        "        x_tick.append(\"topk {}, shrink{}\".format(topK,shrink))\n",
        "\n",
        "\n",
        "        recommender = ItemKNNCBFRecommender(URM_train, ICM_all)\n",
        "        recommender.fit(topK=topK, shrink=shrink, feature_weighting = 'TF-IDF')\n",
        "\n",
        "        result_dict, _ = evaluator_validation.evaluateRecommender(recommender)\n",
        "\n",
        "        collaborative_MAP.append(result_dict[10][\"MAP\"])"
      ],
      "execution_count": null,
      "outputs": []
    },
    {
      "cell_type": "code",
      "metadata": {
        "id": "bSeJC8GqQhws"
      },
      "source": [
        "import operator\n",
        "index, value = max(enumerate(collaborative_MAP), key=operator.itemgetter(1))\n",
        "print(index, value)\n",
        "parameters = x_tick[index]\n",
        "print(parameters)"
      ],
      "execution_count": null,
      "outputs": []
    },
    {
      "cell_type": "code",
      "metadata": {
        "id": "ioDKb4V8QlJT"
      },
      "source": [
        "test_users = pd.read_csv('data_target_users_test.csv')\n",
        "test_users"
      ],
      "execution_count": null,
      "outputs": []
    },
    {
      "cell_type": "code",
      "metadata": {
        "id": "2oUuT_SRQn3n"
      },
      "source": [
        "# best model itemCBF topk 600, shrink200, weightTF-IDF\n",
        "\n",
        "recommender = ItemKNNCBFRecommender(URM_all, ICM_all)\n",
        "recommender.fit(topK=600, shrink=200, feature_weighting = 'TF-IDF')\n",
        "\n",
        "user_id = test_users['user_id']\n",
        "recommendations = recommender.recommend(user_id,cutoff = 10)"
      ],
      "execution_count": null,
      "outputs": []
    },
    {
      "cell_type": "code",
      "metadata": {
        "id": "kkmQQ7P2Qqdd"
      },
      "source": [
        "for index in range(len(recommendations)):\n",
        "    #print(element)\n",
        "    recommendations[index]=np.array(recommendations[index])\n",
        "    #print(type(element))\n",
        "print(len(recommendations))"
      ],
      "execution_count": null,
      "outputs": []
    },
    {
      "cell_type": "code",
      "metadata": {
        "id": "B6w3k4yOQs_b"
      },
      "source": [
        "test_users['item_list']= recommendations\n",
        "#test_users['item_list'] =  test_users['item_list'].apply(lambda x: x.replace('[','').replace(']','')) \n",
        "test_users['item_list'] = pd.DataFrame([str(line).strip('[').strip(']').replace(\"'\",\"\") for line in test_users['item_list']])\n",
        "\n",
        "#convert the string columns to int\n",
        "#test_users['item_list'] = test_users['item_list'].astype(int)\n",
        "test_users\n",
        "test_users.to_csv('submission.csv', index=False)"
      ],
      "execution_count": null,
      "outputs": []
    }
  ]
}