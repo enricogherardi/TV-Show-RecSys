{
 "cells": [
  {
   "cell_type": "markdown",
   "metadata": {
    "id": "J2h3pD0SZije",
    "pycharm": {
     "name": "#%% md\n"
    }
   },
   "source": [
    "\n",
    "# Data preprocessing"
   ]
  },
  {
   "cell_type": "code",
   "execution_count": 1,
   "metadata": {},
   "outputs": [
    {
     "name": "stdout",
     "output_type": "stream",
     "text": [
      "/Users/fulco/Desktop/recommender-systems-challenge\n"
     ]
    }
   ],
   "source": [
    "% cd.."
   ]
  },
  {
   "cell_type": "code",
   "execution_count": 2,
   "metadata": {
    "pycharm": {
     "name": "#%%\n"
    }
   },
   "outputs": [],
   "source": [
    "import numpy as np\n",
    "import scipy.sparse as sps\n",
    "from sklearn import feature_extraction\n",
    "\n",
    "from Evaluation.Evaluator import EvaluatorHoldout\n",
    "from Data_manager.split_functions.split_train_validation_random_holdout import split_train_in_two_percentage_global_sample\n",
    "from reader import load_urm, load_icm, load_target\n",
    "from evaluate import _get_instance"
   ]
  },
  {
   "cell_type": "code",
   "execution_count": 3,
   "metadata": {
    "pycharm": {
     "name": "#%%\n"
    }
   },
   "outputs": [],
   "source": [
    "res_dir = 'result_experiments/csv'\n",
    "output_root_path = \"../result_experiments/\"\n"
   ]
  },
  {
   "cell_type": "code",
   "execution_count": 8,
   "metadata": {
    "pycharm": {
     "name": "#%%\n"
    }
   },
   "outputs": [],
   "source": [
    "URM_all = load_urm()\n",
    "\n",
    "ICM_channel = load_icm(\"data_ICM_channel.csv\", weight=1)\n",
    "ICM_event = load_icm(\"data_ICM_event.csv\", weight=1)\n",
    "ICM_genre = load_icm(\"data_ICM_genre.csv\", weight=1)\n",
    "ICM_subgenre = load_icm(\"data_ICM_subgenre.csv\", weight=1)\n",
    "\n",
    "ICM_all = sps.hstack([ICM_genre, ICM_subgenre, ICM_channel, ICM_event]).tocsr()\n",
    "ICMs = [ICM_genre, ICM_subgenre, ICM_channel, ICM_event, ICM_all]"
   ]
  },
  {
   "cell_type": "code",
   "execution_count": 10,
   "metadata": {
    "pycharm": {
     "name": "#%%\n"
    }
   },
   "outputs": [
    {
     "name": "stdout",
     "output_type": "stream",
     "text": [
      "Warning: 6 (0.04 %) of 13650 users have no sampled items\n",
      "EvaluatorHoldout: Ignoring 6 ( 0.0%) Users that have less than 1 test interactions\n"
     ]
    }
   ],
   "source": [
    "URM_train, URM_test = split_train_in_two_percentage_global_sample(URM_all, train_percentage=0.80)\n",
    "\n",
    "evaluator_test = EvaluatorHoldout(URM_test, cutoff_list=[10])"
   ]
  },
  {
   "cell_type": "code",
   "execution_count": 11,
   "metadata": {
    "pycharm": {
     "name": "#%%\n"
    }
   },
   "outputs": [],
   "source": [
    "n_users = 13650\n",
    "n_item = 18059"
   ]
  },
  {
   "cell_type": "code",
   "execution_count": 23,
   "metadata": {
    "pycharm": {
     "name": "#%%\n"
    }
   },
   "outputs": [
    {
     "name": "stdout",
     "output_type": "stream",
     "text": [
      "profile [132 467 121 ... 209 149 262] (13650,)\n",
      "block_size 136\n",
      "sorted users [ 1648  3368 11326 ...  1141  8526   317]\n"
     ]
    }
   ],
   "source": [
    "profile_length = np.ediff1d(sps.csr_matrix(URM_train).indptr)\n",
    "print(\"profile\", profile_length, profile_length.shape)\n",
    "\n",
    "block_size = int(len(profile_length) * 0.01)\n",
    "print(\"block_size\", block_size)\n",
    "\n",
    "sorted_users = np.argsort(profile_length)\n",
    "print(\"sorted users\", sorted_users)"
   ]
  },
  {
   "cell_type": "code",
   "execution_count": 24,
   "metadata": {
    "scrolled": true
   },
   "outputs": [
    {
     "data": {
      "text/plain": "array([3853, 5269, 2721, 1162,  414,  147,   47,   31,    4,    2])"
     },
     "execution_count": 24,
     "metadata": {},
     "output_type": "execute_result"
    },
    {
     "data": {
      "text/plain": "<Figure size 432x288 with 1 Axes>",
      "image/png": "[encoded data removed]"
     },
     "metadata": {
      "needs_background": "light"
     },
     "output_type": "display_data"
    }
   ],
   "source": [
    "import matplotlib.pyplot as plt\n",
    "\n",
    "counts, bins = np.histogram(profile_length)\n",
    "plt.hist(bins[:-1], bins, weights=counts)"
   ]
  },
  {
   "cell_type": "code",
   "execution_count": 22,
   "metadata": {
    "pycharm": {
     "name": "#%%\n"
    }
   },
   "outputs": [
    {
     "name": "stdout",
     "output_type": "stream",
     "text": [
      "Group 0, #users in group 136, average p.len 12.74, median 13.0, min 4, max 17\n",
      "Group 1, #users in group 136, average p.len 23.14, median 23.0, min 17, max 28\n",
      "Group 2, #users in group 136, average p.len 32.69, median 32.0, min 28, max 37\n",
      "Group 3, #users in group 136, average p.len 42.90, median 43.0, min 37, max 48\n",
      "Group 4, #users in group 136, average p.len 50.77, median 51.0, min 48, max 54\n",
      "Group 5, #users in group 136, average p.len 57.85, median 58.0, min 54, max 62\n",
      "Group 6, #users in group 136, average p.len 66.18, median 66.0, min 62, max 70\n",
      "Group 7, #users in group 136, average p.len 73.58, median 74.0, min 70, max 77\n",
      "Group 8, #users in group 136, average p.len 80.72, median 81.0, min 77, max 84\n",
      "Group 9, #users in group 136, average p.len 87.10, median 87.0, min 84, max 90\n"
     ]
    }
   ],
   "source": [
    "for group_id in range(0, 10):\n",
    "    start_pos = group_id * block_size\n",
    "    end_pos = min((group_id + 1) * block_size, len(profile_length))\n",
    "\n",
    "    users_in_group = sorted_users[start_pos:end_pos]\n",
    "\n",
    "    users_in_group_p_len = profile_length[users_in_group]\n",
    "\n",
    "    print(\"Group {}, #users in group {}, average p.len {:.2f}, median {}, min {}, max {}\".format(\n",
    "        group_id,\n",
    "        users_in_group.shape[0],\n",
    "        users_in_group_p_len.mean(),\n",
    "        np.median(users_in_group_p_len),\n",
    "        users_in_group_p_len.min(),\n",
    "        users_in_group_p_len.max()))"
   ]
  },
  {
   "cell_type": "code",
   "execution_count": 25,
   "metadata": {},
   "outputs": [
    {
     "name": "stdout",
     "output_type": "stream",
     "text": [
      "ItemKNNCBFRecommender: ICM Detected 352 ( 1.9%) items with no features.\n",
      "Similarity column 18059 (100.0%), 10658.32 column/sec. Elapsed time 1.69 sec\n"
     ]
    }
   ],
   "source": [
    "from Recommenders.KNN.ItemKNNCBFRecommender import ItemKNNCBFRecommender\n",
    "from Recommenders.MatrixFactorization.PureSVDRecommender import PureSVDRecommender\n",
    "from Recommenders.NonPersonalizedRecommender import TopPop\n",
    "from Recommenders.KNN.UserKNNCFRecommender import UserKNNCFRecommender\n",
    "from Recommenders.KNN.ItemKNNCFRecommender import ItemKNNCFRecommender\n",
    "from Recommenders.SLIM.Cython.SLIM_BPR_Cython import SLIM_BPR_Cython\n",
    "from Recommenders.GraphBased.P3alphaRecommender import P3alphaRecommender\n",
    "from Recommenders.GraphBased.RP3betaRecommender import RP3betaRecommender\n",
    "from Recommenders.MatrixFactorization.IALSRecommender import IALSRecommender\n",
    "from Recommenders.SLIM.SLIMElasticNetRecommender import SLIMElasticNetRecommender\n",
    "\n",
    "MAP_recommender_per_group = {}\n",
    "\n",
    "collaborative_recommender_class = {\"TopPop\": TopPop,\n",
    "                                   \"UserKNNCF\": UserKNNCFRecommender,\n",
    "                                   \"ItemKNNCF\": ItemKNNCFRecommender,\n",
    "                                   \"P3alpha\": P3alphaRecommender,\n",
    "                                   \"RP3beta\": RP3betaRecommender,\n",
    "                                   \"SLIMElasticNetRecommender\": SLIMElasticNetRecommender,\n",
    "                                   \"PureSVDRecommender\": PureSVDRecommender,\n",
    "                                   }\n",
    "\n",
    "content_recommender_class = {\"ItemKNNCBF\": ItemKNNCBFRecommender,\n",
    "                             }\n",
    "recommender_object_dict = {}\n",
    "\n",
    "# for label, recommender_class in collaborative_recommender_class.items():\n",
    "#\n",
    "#     recommender_object = recommender_class(URM_train)\n",
    "#\n",
    "#     if isinstance(recommender_object, ItemKNNCFRecommender):\n",
    "#         fit_params = {'topK': 189, 'shrink': 0, 'similarity': 'cosine', 'normalize': True,\n",
    "#                       'feature_weighting': 'TF-IDF'}\n",
    "#     elif isinstance(recommender_object, IALSRecommender):\n",
    "#         fit_params = {'num_factors': 55, 'epochs': 50, 'confidence_scaling': 'log',\n",
    "#                       'alpha': 0.06164752624981533, 'epsilon': 0.21164021855039056, 'reg': 0.002507116338282967}\n",
    "#     elif isinstance(recommender_object, RP3betaRecommender):\n",
    "#         fit_params = {'topK': 40, 'alpha': 0.4208737801266599, 'beta': 0.5251543657397256,\n",
    "#                       'normalize_similarity': True}\n",
    "#     elif isinstance(recommender_object, PureSVDRecommender):\n",
    "#         fit_params = {'num_factors': 29}\n",
    "#     else:\n",
    "#         fit_params = {}\n",
    "#\n",
    "#     if isinstance(recommender_object, SLIMElasticNetRecommender):\n",
    "#         recommender_object.load_model(output_root_path, file_name=\"slimelastic_urmall.zip\")\n",
    "#     else:\n",
    "#         recommender_object.fit(**fit_params)\n",
    "#\n",
    "#     recommender_object_dict[label] = recommender_object\n",
    "\n",
    "for label, recommender_class in content_recommender_class.items():\n",
    "    recommender_object = recommender_class(URM_train, ICM_channel)\n",
    "    if isinstance(recommender_object, ItemKNNCBFRecommender):\n",
    "        fit_params = {'topK': 1000, 'shrink': 1000, 'similarity': 'cosine', 'normalize': False,\n",
    "                      'feature_weighting': 'TF-IDF'}\n",
    "\n",
    "    recommender_object.fit()\n",
    "    recommender_object_dict[label] = recommender_object\n"
   ]
  },
  {
   "cell_type": "code",
   "execution_count": null,
   "metadata": {
    "pycharm": {
     "is_executing": true
    }
   },
   "outputs": [],
   "source": [
    "% ls"
   ]
  },
  {
   "cell_type": "code",
   "execution_count": 28,
   "metadata": {},
   "outputs": [
    {
     "name": "stdout",
     "output_type": "stream",
     "text": [
      "Group 0, #users in group 136, average p.len 12.74, median 13.0, min 4, max 17\n",
      "EvaluatorHoldout: Ignoring 6 ( 0.0%) Users that have less than 1 test interactions\n",
      "EvaluatorHoldout: Ignoring 13514 Users\n",
      "EvaluatorHoldout: Processed 131 (100.0%) in 0.64 sec. Users per second: 206\n",
      "0.000400763358778626\n",
      "Group 1, #users in group 136, average p.len 23.14, median 23.0, min 17, max 28\n",
      "EvaluatorHoldout: Ignoring 6 ( 0.0%) Users that have less than 1 test interactions\n",
      "EvaluatorHoldout: Ignoring 13514 Users\n",
      "EvaluatorHoldout: Processed 135 (100.0%) in 0.62 sec. Users per second: 219\n",
      "0.0023106995884773665\n",
      "Group 2, #users in group 136, average p.len 32.69, median 32.0, min 28, max 37\n",
      "EvaluatorHoldout: Ignoring 6 ( 0.0%) Users that have less than 1 test interactions\n",
      "EvaluatorHoldout: Ignoring 13514 Users\n",
      "EvaluatorHoldout: Processed 136 (100.0%) in 0.62 sec. Users per second: 220\n",
      "0.005615371148459385\n",
      "Group 3, #users in group 136, average p.len 42.90, median 43.0, min 37, max 48\n",
      "EvaluatorHoldout: Ignoring 6 ( 0.0%) Users that have less than 1 test interactions\n",
      "EvaluatorHoldout: Ignoring 13514 Users\n",
      "EvaluatorHoldout: Processed 136 (100.0%) in 0.60 sec. Users per second: 226\n",
      "0.00847076330532213\n",
      "Group 4, #users in group 136, average p.len 50.77, median 51.0, min 48, max 54\n",
      "EvaluatorHoldout: Ignoring 6 ( 0.0%) Users that have less than 1 test interactions\n",
      "EvaluatorHoldout: Ignoring 13514 Users\n",
      "EvaluatorHoldout: Processed 136 (100.0%) in 0.60 sec. Users per second: 227\n",
      "0.009524976657329601\n",
      "Group 5, #users in group 136, average p.len 57.85, median 58.0, min 54, max 62\n",
      "EvaluatorHoldout: Ignoring 6 ( 0.0%) Users that have less than 1 test interactions\n",
      "EvaluatorHoldout: Ignoring 13514 Users\n",
      "EvaluatorHoldout: Processed 136 (100.0%) in 0.60 sec. Users per second: 227\n",
      "0.010085492530345472\n",
      "Group 6, #users in group 136, average p.len 66.18, median 66.0, min 62, max 70\n",
      "EvaluatorHoldout: Ignoring 6 ( 0.0%) Users that have less than 1 test interactions\n",
      "EvaluatorHoldout: Ignoring 13514 Users\n",
      "EvaluatorHoldout: Processed 136 (100.0%) in 0.59 sec. Users per second: 230\n",
      "0.011471755368814191\n",
      "Group 7, #users in group 136, average p.len 73.58, median 74.0, min 70, max 77\n",
      "EvaluatorHoldout: Ignoring 6 ( 0.0%) Users that have less than 1 test interactions\n",
      "EvaluatorHoldout: Ignoring 13514 Users\n",
      "EvaluatorHoldout: Processed 136 (100.0%) in 0.60 sec. Users per second: 227\n",
      "0.014281045751633985\n",
      "Group 8, #users in group 136, average p.len 80.72, median 81.0, min 77, max 84\n",
      "EvaluatorHoldout: Ignoring 6 ( 0.0%) Users that have less than 1 test interactions\n",
      "EvaluatorHoldout: Ignoring 13514 Users\n",
      "EvaluatorHoldout: Processed 136 (100.0%) in 0.64 sec. Users per second: 214\n",
      "0.014360994397759102\n",
      "Group 9, #users in group 136, average p.len 87.10, median 87.0, min 84, max 90\n",
      "EvaluatorHoldout: Ignoring 6 ( 0.0%) Users that have less than 1 test interactions\n",
      "EvaluatorHoldout: Ignoring 13514 Users\n",
      "EvaluatorHoldout: Processed 136 (100.0%) in 0.62 sec. Users per second: 220\n",
      "0.011386554621848736\n"
     ]
    }
   ],
   "source": [
    "cutoff = 10\n",
    "\n",
    "for group_id in range(0, 10):\n",
    "\n",
    "    start_pos = group_id * block_size\n",
    "    end_pos = min((group_id + 1) * block_size, len(profile_length))\n",
    "\n",
    "    users_in_group = sorted_users[start_pos:end_pos]\n",
    "\n",
    "    users_in_group_p_len = profile_length[users_in_group]\n",
    "\n",
    "    print(\"Group {}, #users in group {}, average p.len {:.2f}, median {}, min {}, max {}\".format(\n",
    "        group_id,\n",
    "        users_in_group.shape[0],\n",
    "        users_in_group_p_len.mean(),\n",
    "        np.median(users_in_group_p_len),\n",
    "        users_in_group_p_len.min(),\n",
    "        users_in_group_p_len.max()))\n",
    "\n",
    "    users_not_in_group_flag = np.isin(sorted_users, users_in_group, invert=True)\n",
    "    users_not_in_group = sorted_users[users_not_in_group_flag]\n",
    "\n",
    "    evaluator_test = EvaluatorHoldout(URM_test, cutoff_list=[cutoff], ignore_users=users_not_in_group)\n",
    "\n",
    "    for label, recommender in recommender_object_dict.items():\n",
    "        result_df, _ = evaluator_test.evaluateRecommender(recommender)\n",
    "        if label in MAP_recommender_per_group:\n",
    "            MAP_recommender_per_group[label].append(result_df.loc[cutoff][\"MAP\"])\n",
    "        else:\n",
    "            MAP_recommender_per_group[label] = [result_df.loc[cutoff][\"MAP\"]]\n",
    "        print(result_df.loc[cutoff][\"MAP\"])"
   ]
  },
  {
   "cell_type": "code",
   "execution_count": 29,
   "metadata": {
    "pycharm": {
     "name": "#%%\n"
    }
   },
   "outputs": [
    {
     "data": {
      "text/plain": "<Figure size 1152x648 with 1 Axes>",
      "image/png": "[encoded data removed]"
     },
     "metadata": {
      "needs_background": "light"
     },
     "output_type": "display_data"
    }
   ],
   "source": [
    "import matplotlib.pyplot as plt\n",
    "\n",
    "_ = plt.figure(figsize=(16, 9))\n",
    "for label, recommender in recommender_object_dict.items():\n",
    "    results = MAP_recommender_per_group[label]\n",
    "    plt.scatter(x=np.arange(0, len(results)), y=results, label=label)\n",
    "plt.ylabel('MAP')\n",
    "plt.xlabel('User Group')\n",
    "plt.legend()\n",
    "plt.show()"
   ]
  },
  {
   "cell_type": "code",
   "execution_count": null,
   "outputs": [],
   "source": [],
   "metadata": {
    "collapsed": false,
    "pycharm": {
     "name": "#%%\n"
    }
   }
  }
 ],
 "metadata": {
  "colab": {
   "collapsed_sections": [
    "t39WS27HZijp"
   ],
   "name": "basic recommender.ipynb",
   "provenance": []
  },
  "kernelspec": {
   "display_name": "Python 3 (ipykernel)",
   "language": "python",
   "name": "python3"
  },
  "language_info": {
   "codemirror_mode": {
    "name": "ipython",
    "version": 3
   },
   "file_extension": ".py",
   "mimetype": "text/x-python",
   "name": "python",
   "nbconvert_exporter": "python",
   "pygments_lexer": "ipython3",
   "version": "3.9.7"
  }
 },
 "nbformat": 4,
 "nbformat_minor": 4
}