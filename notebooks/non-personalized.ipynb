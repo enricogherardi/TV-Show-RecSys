{
  "cells": [
    {
      "cell_type": "markdown",
      "metadata": {
        "id": "J2h3pD0SZije"
      },
      "source": [
        "\n",
        "# Non personalized recommenders"
      ]
    },
    {
      "cell_type": "markdown",
      "metadata": {
        "id": "Esg8pm9VZijg"
      },
      "source": [
        "### Load data"
      ]
    },
    {
      "cell_type": "code",
      "execution_count": 1,
      "metadata": {
        "colab": {
          "base_uri": "https://localhost:8080/"
        },
        "id": "H_Y77C0qZqOW",
        "outputId": "b32d60d1-e29b-4443-f05a-af6703b04025"
      },
      "outputs": [
        {
          "name": "stdout",
          "output_type": "stream",
          "text": [
            "Drive already mounted at /content/gdrive; to attempt to forcibly remount, call drive.mount(\"/content/gdrive\", force_remount=True).\n"
          ]
        }
      ],
      "source": [
        "from google.colab import drive \n",
        "drive.mount('/content/gdrive')"
      ]
    },
    {
      "cell_type": "code",
      "execution_count": 2,
      "metadata": {
        "id": "AvxjnGpLZijh"
      },
      "outputs": [],
      "source": [
        "recsys_path = \"/content/gdrive/MyDrive/recsys/\"\n",
        "data_path = recsys_path + 'data/'\n",
        "data_train_path = data_path + \"data_train.csv\""
      ]
    },
    {
      "cell_type": "code",
      "execution_count": 3,
      "metadata": {
        "id": "nBFp8uKtGKlu"
      },
      "outputs": [],
      "source": [
        "import os\n",
        "\n",
        "# create folders and load data from github\n",
        "if not os.path.exists(data_path):\n",
        "    os.makedirs(data_path)\n",
        "    os.chdir(recsys_path)\n",
        "    !git clone https://github.com/fulcus/recommender-systems-challenge.git\n",
        "    !mv recommender-systems-challenge/data data\n",
        "    !rm -rf recommender-systems-challenge\n",
        "  \n",
        "os.chdir(recsys_path)"
      ]
    },
    {
      "cell_type": "markdown",
      "metadata": {
        "id": "yyTfMLjsZiji"
      },
      "source": [
        "#### Let's take a look at the data"
      ]
    },
    {
      "cell_type": "code",
      "execution_count": 4,
      "metadata": {
        "id": "C-AtG8VvZiji"
      },
      "outputs": [],
      "source": [
        "import pandas as pd"
      ]
    },
    {
      "cell_type": "code",
      "execution_count": 5,
      "metadata": {
        "id": "UlhlbDnFZijj"
      },
      "outputs": [],
      "source": [
        "URM_all_dataframe = pd.read_csv(data_train_path, dtype={0:int, 1:int, 2:int})\n",
        "URM_all_dataframe.columns = [\"UserID\", \"ItemID\", \"Interaction\"]"
      ]
    },
    {
      "cell_type": "code",
      "execution_count": 6,
      "metadata": {
        "colab": {
          "base_uri": "https://localhost:8080/",
          "height": 359
        },
        "id": "4CtHEsIPZijj",
        "outputId": "21a4dbae-8136-4527-e040-b5466ca6605c"
      },
      "outputs": [
        {
          "data": {
            "text/html": [
              "<div>\n",
              "<style scoped>\n",
              "    .dataframe tbody tr th:only-of-type {\n",
              "        vertical-align: middle;\n",
              "    }\n",
              "\n",
              "    .dataframe tbody tr th {\n",
              "        vertical-align: top;\n",
              "    }\n",
              "\n",
              "    .dataframe thead th {\n",
              "        text-align: right;\n",
              "    }\n",
              "</style>\n",
              "<table border=\"1\" class=\"dataframe\">\n",
              "  <thead>\n",
              "    <tr style=\"text-align: right;\">\n",
              "      <th></th>\n",
              "      <th>UserID</th>\n",
              "      <th>ItemID</th>\n",
              "      <th>Interaction</th>\n",
              "    </tr>\n",
              "  </thead>\n",
              "  <tbody>\n",
              "    <tr>\n",
              "      <th>0</th>\n",
              "      <td>0</td>\n",
              "      <td>53</td>\n",
              "      <td>1</td>\n",
              "    </tr>\n",
              "    <tr>\n",
              "      <th>1</th>\n",
              "      <td>0</td>\n",
              "      <td>209</td>\n",
              "      <td>1</td>\n",
              "    </tr>\n",
              "    <tr>\n",
              "      <th>2</th>\n",
              "      <td>0</td>\n",
              "      <td>223</td>\n",
              "      <td>1</td>\n",
              "    </tr>\n",
              "    <tr>\n",
              "      <th>3</th>\n",
              "      <td>0</td>\n",
              "      <td>249</td>\n",
              "      <td>1</td>\n",
              "    </tr>\n",
              "    <tr>\n",
              "      <th>4</th>\n",
              "      <td>0</td>\n",
              "      <td>435</td>\n",
              "      <td>1</td>\n",
              "    </tr>\n",
              "    <tr>\n",
              "      <th>5</th>\n",
              "      <td>0</td>\n",
              "      <td>460</td>\n",
              "      <td>1</td>\n",
              "    </tr>\n",
              "    <tr>\n",
              "      <th>6</th>\n",
              "      <td>0</td>\n",
              "      <td>652</td>\n",
              "      <td>1</td>\n",
              "    </tr>\n",
              "    <tr>\n",
              "      <th>7</th>\n",
              "      <td>0</td>\n",
              "      <td>960</td>\n",
              "      <td>1</td>\n",
              "    </tr>\n",
              "    <tr>\n",
              "      <th>8</th>\n",
              "      <td>0</td>\n",
              "      <td>973</td>\n",
              "      <td>1</td>\n",
              "    </tr>\n",
              "    <tr>\n",
              "      <th>9</th>\n",
              "      <td>0</td>\n",
              "      <td>1103</td>\n",
              "      <td>1</td>\n",
              "    </tr>\n",
              "  </tbody>\n",
              "</table>\n",
              "</div>"
            ],
            "text/plain": [
              "   UserID  ItemID  Interaction\n",
              "0       0      53            1\n",
              "1       0     209            1\n",
              "2       0     223            1\n",
              "3       0     249            1\n",
              "4       0     435            1\n",
              "5       0     460            1\n",
              "6       0     652            1\n",
              "7       0     960            1\n",
              "8       0     973            1\n",
              "9       0    1103            1"
            ]
          },
          "execution_count": 6,
          "metadata": {},
          "output_type": "execute_result"
        }
      ],
      "source": [
        "URM_all_dataframe.head(n=10)"
      ]
    },
    {
      "cell_type": "code",
      "execution_count": 7,
      "metadata": {
        "colab": {
          "base_uri": "https://localhost:8080/"
        },
        "id": "wsltfZPGZijk",
        "outputId": "b9fc4294-e198-44e3-f19e-b55f4cddb103"
      },
      "outputs": [
        {
          "name": "stdout",
          "output_type": "stream",
          "text": [
            "The number of interactions is 5285664\n"
          ]
        }
      ],
      "source": [
        "print (\"The number of interactions is {}\".format(len(URM_all_dataframe)))"
      ]
    },
    {
      "cell_type": "markdown",
      "metadata": {
        "id": "uhEiPfujZijk"
      },
      "source": [
        "### We can use this data to create a sparse matrix, since we have red UserID and ItemID as int"
      ]
    },
    {
      "cell_type": "markdown",
      "metadata": {
        "id": "11yLD342Zijk"
      },
      "source": [
        "### Now we can extract the list of unique user id and item id and display some statistics"
      ]
    },
    {
      "cell_type": "markdown",
      "metadata": {
        "id": "62TZ2lKFZijl"
      },
      "source": [
        "### There are no empty profiles or items, and indexes already start from *0*\n"
      ]
    },
    {
      "cell_type": "code",
      "execution_count": 8,
      "metadata": {
        "colab": {
          "base_uri": "https://localhost:8080/"
        },
        "id": "wnXg7iT9Zijm",
        "outputId": "f40233c1-98b2-4189-8eb2-4b02733cd337"
      },
      "outputs": [
        {
          "name": "stdout",
          "output_type": "stream",
          "text": [
            "Number of items\t 18059, Number of users\t 13650\n",
            "Max ID items\t 18058, Max Id users\t 13649\n",
            "\n",
            "Average interactions per user 387.23\n",
            "Average interactions per item 292.69\n",
            "\n",
            "Sparsity 97.86 %\n"
          ]
        }
      ],
      "source": [
        "userID_unique = URM_all_dataframe[\"UserID\"].unique()\n",
        "itemID_unique = URM_all_dataframe[\"ItemID\"].unique()\n",
        "\n",
        "n_users = len(userID_unique)\n",
        "n_items = len(itemID_unique)\n",
        "n_interactions = len(URM_all_dataframe)\n",
        "\n",
        "print (\"Number of items\\t {}, Number of users\\t {}\".format(n_items, n_users))\n",
        "print (\"Max ID items\\t {}, Max Id users\\t {}\\n\".format(max(itemID_unique), max(userID_unique)))\n",
        "print (\"Average interactions per user {:.2f}\".format(n_interactions/n_users))\n",
        "print (\"Average interactions per item {:.2f}\\n\".format(n_interactions/n_items))\n",
        "\n",
        "print (\"Sparsity {:.2f} %\".format((1-float(n_interactions)/(n_items*n_users))*100))"
      ]
    },
    {
      "cell_type": "markdown",
      "metadata": {
        "id": "NLRIbkoXZijm"
      },
      "source": [
        "#### To store the data we use a sparse matrix. We build it as a COO matrix and then change its format\n",
        "\n",
        "#### The COO constructor expects (data, (row, column))"
      ]
    },
    {
      "cell_type": "code",
      "execution_count": 9,
      "metadata": {
        "colab": {
          "base_uri": "https://localhost:8080/"
        },
        "id": "fz4ENRAvZijm",
        "outputId": "95c55886-1b0d-4445-cd79-ef168fdd07fb"
      },
      "outputs": [
        {
          "data": {
            "text/plain": [
              "<13650x18059 sparse matrix of type '<class 'numpy.int64'>'\n",
              "\twith 5285664 stored elements in COOrdinate format>"
            ]
          },
          "execution_count": 9,
          "metadata": {},
          "output_type": "execute_result"
        }
      ],
      "source": [
        "import scipy.sparse as sps\n",
        "\n",
        "URM_all = sps.coo_matrix((URM_all_dataframe[\"Interaction\"].values, \n",
        "                          (URM_all_dataframe[\"UserID\"].values, URM_all_dataframe[\"ItemID\"].values)))\n",
        "\n",
        "URM_all"
      ]
    },
    {
      "cell_type": "code",
      "execution_count": 10,
      "metadata": {
        "id": "iSVqqCiAZijm",
        "scrolled": true
      },
      "outputs": [],
      "source": [
        "#URM_all.tocsr()"
      ]
    },
    {
      "cell_type": "markdown",
      "metadata": {
        "id": "HwqokGbXZijn"
      },
      "source": [
        "### We compute the item popularity as the number of interaction in each column\n",
        "\n",
        "### We can use the properties of sparse matrices in CSC format"
      ]
    },
    {
      "cell_type": "code",
      "execution_count": 11,
      "metadata": {
        "colab": {
          "base_uri": "https://localhost:8080/"
        },
        "id": "b49M0tEWZijn",
        "outputId": "b074f7cd-8145-41c3-8667-53f92ee15a41"
      },
      "outputs": [
        {
          "data": {
            "text/plain": [
              "array([ 14, 156,  49, ..., 458,  48,  98], dtype=int32)"
            ]
          },
          "execution_count": 11,
          "metadata": {},
          "output_type": "execute_result"
        }
      ],
      "source": [
        "import numpy as np\n",
        "\n",
        "item_popularity = np.ediff1d(URM_all.tocsc().indptr)\n",
        "item_popularity"
      ]
    },
    {
      "cell_type": "code",
      "execution_count": 12,
      "metadata": {
        "colab": {
          "base_uri": "https://localhost:8080/"
        },
        "id": "aDDirSLiZijn",
        "outputId": "194ebf5c-63af-4bcb-a084-0f6cd3597c98"
      },
      "outputs": [
        {
          "data": {
            "text/plain": [
              "array([    3,     3,     3, ..., 10109, 10118, 11199], dtype=int32)"
            ]
          },
          "execution_count": 12,
          "metadata": {},
          "output_type": "execute_result"
        }
      ],
      "source": [
        "item_popularity = np.sort(item_popularity)\n",
        "item_popularity"
      ]
    },
    {
      "cell_type": "code",
      "execution_count": 13,
      "metadata": {
        "colab": {
          "base_uri": "https://localhost:8080/",
          "height": 279
        },
        "id": "BXFKSTIOZijn",
        "outputId": "3910766a-948e-4ffc-e9ea-3c9df5121c78"
      },
      "outputs": [
        {
          "data": {
            "image/png": "[encoded data removed]",
            "text/plain": [
              "<Figure size 432x288 with 1 Axes>"
            ]
          },
          "metadata": {
            "needs_background": "light"
          },
          "output_type": "display_data"
        }
      ],
      "source": [
        "import matplotlib.pyplot as pyplot\n",
        "\n",
        "pyplot.plot(item_popularity, 'ro')\n",
        "pyplot.ylabel('Num Interactions ')\n",
        "pyplot.xlabel('Sorted Item')\n",
        "pyplot.show()"
      ]
    },
    {
      "cell_type": "markdown",
      "metadata": {
        "id": "nuSWT91f6rW1"
      },
      "source": [
        "x axis is index of array (monotonic because it is sorted), y axis value of element with corresponding x"
      ]
    },
    {
      "cell_type": "code",
      "execution_count": 14,
      "metadata": {
        "colab": {
          "base_uri": "https://localhost:8080/"
        },
        "id": "s3AakZPyZijn",
        "outputId": "e7109517-4d5f-4fe3-bbbe-28f578941110"
      },
      "outputs": [
        {
          "name": "stdout",
          "output_type": "stream",
          "text": [
            "Average per-item interactions over the whole dataset 292.69\n",
            "Average per-item interactions for the top 10% popular items 1847.99\n",
            "Average per-item interactions for the least 10% popular items 9.60\n",
            "Average per-item interactions for the median 10% popular items 65.58\n"
          ]
        }
      ],
      "source": [
        "ten_percent = int(n_items/10)\n",
        "\n",
        "print(\"Average per-item interactions over the whole dataset {:.2f}\".\n",
        "      format(item_popularity.mean()))\n",
        "\n",
        "print(\"Average per-item interactions for the top 10% popular items {:.2f}\".\n",
        "      format(item_popularity[-ten_percent:].mean()))\n",
        "\n",
        "print(\"Average per-item interactions for the least 10% popular items {:.2f}\".\n",
        "      format(item_popularity[:ten_percent].mean()))\n",
        "\n",
        "print(\"Average per-item interactions for the median 10% popular items {:.2f}\".\n",
        "      format(item_popularity[int(n_items*0.45):int(n_items*0.55)].mean()))"
      ]
    },
    {
      "cell_type": "code",
      "execution_count": 15,
      "metadata": {
        "colab": {
          "base_uri": "https://localhost:8080/"
        },
        "id": "l__efgL2Zijn",
        "outputId": "807a390a-3c69-4ca2-8342-db1b7feb2530"
      },
      "outputs": [
        {
          "name": "stdout",
          "output_type": "stream",
          "text": [
            "Number of items with zero interactions 0\n"
          ]
        }
      ],
      "source": [
        "print(\"Number of items with zero interactions {}\".\n",
        "      format(np.sum(item_popularity==0)))"
      ]
    },
    {
      "cell_type": "markdown",
      "metadata": {
        "id": "YTV630ZDZijn"
      },
      "source": [
        "### We compute the user activity (profile length) as the number of interaction in each row\n",
        "\n",
        "### We can use the properties of sparse matrices in CSR format"
      ]
    },
    {
      "cell_type": "code",
      "execution_count": 16,
      "metadata": {
        "colab": {
          "base_uri": "https://localhost:8080/",
          "height": 279
        },
        "id": "ORFHkOyiZijn",
        "outputId": "ec82374f-fc88-4b71-b0e4-bae8dc60255f"
      },
      "outputs": [
        {
          "data": {
            "image/png": "[encoded data removed]",
            "text/plain": [
              "<Figure size 432x288 with 1 Axes>"
            ]
          },
          "metadata": {
            "needs_background": "light"
          },
          "output_type": "display_data"
        }
      ],
      "source": [
        "user_activity = np.ediff1d(URM_all.tocsr().indptr)\n",
        "user_activity = np.sort(user_activity)\n",
        "\n",
        "\n",
        "pyplot.plot(user_activity, 'ro')\n",
        "pyplot.ylabel('Num Interactions ')\n",
        "pyplot.xlabel('Sorted User')\n",
        "pyplot.show()"
      ]
    },
    {
      "cell_type": "markdown",
      "metadata": {
        "id": "hDjRNj2WZijn"
      },
      "source": [
        "### In order to evaluate our recommender we have to define:\n",
        "* A splitting of the data in URM_train and URM_test\n",
        "* An evaluation metric\n",
        "* A functon computing the evaluation for each user\n",
        "\n",
        "### The splitting of the data is very important to ensure your algorithm is evaluated in a realistic scenario by using test it has never seen. We create two splits:\n",
        "#### - Train data: we will use this to train our model\n",
        "#### - Test data: we will use this to evaluate our model"
      ]
    },
    {
      "cell_type": "code",
      "execution_count": 17,
      "metadata": {
        "colab": {
          "base_uri": "https://localhost:8080/"
        },
        "id": "GUW0T_giZijn",
        "outputId": "066b89e2-16fe-4541-8fc6-203588f1dc60"
      },
      "outputs": [
        {
          "data": {
            "text/plain": [
              "array([ True,  True,  True, ...,  True,  True, False])"
            ]
          },
          "execution_count": 17,
          "metadata": {},
          "output_type": "execute_result"
        }
      ],
      "source": [
        "train_test_split = 0.80\n",
        "\n",
        "n_interactions = URM_all.nnz\n",
        "\n",
        "\n",
        "train_mask = np.random.choice([True,False], n_interactions, p=[train_test_split, 1-train_test_split])\n",
        "train_mask"
      ]
    },
    {
      "cell_type": "code",
      "execution_count": 18,
      "metadata": {
        "colab": {
          "base_uri": "https://localhost:8080/"
        },
        "id": "wFEVjLa8Zijn",
        "outputId": "3767fffb-d822-4654-fdfa-7225bf6662fc"
      },
      "outputs": [
        {
          "data": {
            "text/plain": [
              "<13650x18059 sparse matrix of type '<class 'numpy.longlong'>'\n",
              "\twith 4228308 stored elements in Compressed Sparse Row format>"
            ]
          },
          "execution_count": 18,
          "metadata": {},
          "output_type": "execute_result"
        }
      ],
      "source": [
        "URM_train = sps.csr_matrix((URM_all.data[train_mask],\n",
        "                            (URM_all.row[train_mask], URM_all.col[train_mask])))\n",
        "\n",
        "URM_train"
      ]
    },
    {
      "cell_type": "code",
      "execution_count": 19,
      "metadata": {
        "colab": {
          "base_uri": "https://localhost:8080/"
        },
        "id": "8sNPkS3GZijo",
        "outputId": "24158f43-89e8-4a55-d73c-2c4d2fad0a1b"
      },
      "outputs": [
        {
          "data": {
            "text/plain": [
              "<13650x18059 sparse matrix of type '<class 'numpy.longlong'>'\n",
              "\twith 1057356 stored elements in Compressed Sparse Row format>"
            ]
          },
          "execution_count": 19,
          "metadata": {},
          "output_type": "execute_result"
        }
      ],
      "source": [
        "test_mask = np.logical_not(train_mask)\n",
        "\n",
        "URM_test = sps.csr_matrix((URM_all.data[test_mask],\n",
        "                            (URM_all.row[test_mask], URM_all.col[test_mask])))\n",
        "\n",
        "URM_test"
      ]
    },
    {
      "cell_type": "markdown",
      "metadata": {
        "id": "8Zb9N9nDZijo"
      },
      "source": [
        "### Evaluation metric"
      ]
    },
    {
      "cell_type": "markdown",
      "metadata": {
        "id": "_4wH7MhMZijo"
      },
      "source": [
        "#### We call items in the test set 'relevant'"
      ]
    },
    {
      "cell_type": "code",
      "execution_count": 20,
      "metadata": {
        "colab": {
          "base_uri": "https://localhost:8080/"
        },
        "id": "q12x8Sa_Zijo",
        "outputId": "1115055d-fa00-4648-b208-5dd87f6a5927"
      },
      "outputs": [
        {
          "data": {
            "text/plain": [
              "array([  460,  1005,  1533,  1614,  2248,  3473,  4602,  4742,  4853,\n",
              "        6175,  6903,  7430,  7870,  8207,  8598,  8635, 10778, 10843,\n",
              "       10865, 11339, 11491, 11796, 12015, 12272, 12707, 13092, 13237,\n",
              "       13291, 13410, 14010, 14400, 15117, 15277, 16365, 16580, 17291,\n",
              "       17463, 17584], dtype=int32)"
            ]
          },
          "execution_count": 20,
          "metadata": {},
          "output_type": "execute_result"
        }
      ],
      "source": [
        "user_id = 124\n",
        "relevant_items = URM_test[user_id].indices\n",
        "relevant_items"
      ]
    },
    {
      "cell_type": "markdown",
      "metadata": {
        "id": "7VggIkMLZijo"
      },
      "source": [
        "#### Say that we have a recommendation list such as this"
      ]
    },
    {
      "cell_type": "code",
      "execution_count": 21,
      "metadata": {
        "colab": {
          "base_uri": "https://localhost:8080/"
        },
        "id": "XRXLqSgkZijo",
        "outputId": "2f4353d9-bd55-4e56-cac7-7c2d4420b5aa"
      },
      "outputs": [
        {
          "data": {
            "text/plain": [
              "array([  460, 11662,    15,   857,  5823])"
            ]
          },
          "execution_count": 21,
          "metadata": {},
          "output_type": "execute_result"
        }
      ],
      "source": [
        "recommended_items = np.array([460, 11662, 15, 857, 5823])\n",
        "recommended_items"
      ]
    },
    {
      "cell_type": "code",
      "execution_count": 22,
      "metadata": {
        "colab": {
          "base_uri": "https://localhost:8080/"
        },
        "id": "oJnI66LOZijo",
        "outputId": "752cc5be-e80b-425e-9f88-aeede92aacd8"
      },
      "outputs": [
        {
          "data": {
            "text/plain": [
              "array([ True, False, False, False, False])"
            ]
          },
          "execution_count": 22,
          "metadata": {},
          "output_type": "execute_result"
        }
      ],
      "source": [
        "is_relevant = np.in1d(recommended_items, relevant_items, assume_unique=True)\n",
        "is_relevant"
      ]
    },
    {
      "cell_type": "markdown",
      "metadata": {
        "id": "chu8LsYjZijo"
      },
      "source": [
        "### Precision: how many of the recommended items are relevant"
      ]
    },
    {
      "cell_type": "code",
      "execution_count": 23,
      "metadata": {
        "id": "DkDGjZyNZijo"
      },
      "outputs": [],
      "source": [
        "def precision(recommended_items, relevant_items):\n",
        "    \n",
        "    is_relevant = np.in1d(recommended_items, relevant_items, assume_unique=True)\n",
        "    \n",
        "    precision_score = np.sum(is_relevant, dtype=np.float32) / len(is_relevant)\n",
        "    \n",
        "    return precision_score"
      ]
    },
    {
      "cell_type": "markdown",
      "metadata": {
        "id": "E2NnH58EZijo"
      },
      "source": [
        "### Recall: how many of the relevant items I was able to recommend"
      ]
    },
    {
      "cell_type": "code",
      "execution_count": 24,
      "metadata": {
        "id": "oQXFdiuWZijo"
      },
      "outputs": [],
      "source": [
        "def recall(recommended_items, relevant_items):\n",
        "    \n",
        "    is_relevant = np.in1d(recommended_items, relevant_items, assume_unique=True)\n",
        "    \n",
        "    recall_score = np.sum(is_relevant, dtype=np.float32) / relevant_items.shape[0]\n",
        "    \n",
        "    return recall_score"
      ]
    },
    {
      "cell_type": "markdown",
      "metadata": {
        "id": "CQ3FTNVgZijo"
      },
      "source": [
        "### Mean Average Precision"
      ]
    },
    {
      "cell_type": "code",
      "execution_count": 25,
      "metadata": {
        "id": "uduOtSpKZijo"
      },
      "outputs": [],
      "source": [
        "def MAP(recommended_items, relevant_items):\n",
        "   \n",
        "    is_relevant = np.in1d(recommended_items, relevant_items, assume_unique=True)\n",
        "    \n",
        "    # Cumulative sum: precision at 1, at 2, at 3 ...\n",
        "    p_at_k = is_relevant * np.cumsum(is_relevant, dtype=np.float32) / (1 + np.arange(is_relevant.shape[0]))\n",
        "    \n",
        "    map_score = np.sum(p_at_k) / np.min([relevant_items.shape[0], is_relevant.shape[0]])\n",
        "\n",
        "    return map_score"
      ]
    },
    {
      "cell_type": "markdown",
      "metadata": {
        "id": "QBCZwlzPZijo"
      },
      "source": [
        "### Now that we have the data, we can build our first recommender. We need two things:\n",
        "* a 'fit' function to train our model\n",
        "* a 'recommend' function that uses our model to recommend\n",
        "\n",
        "### Let's start with a random recommender"
      ]
    },
    {
      "cell_type": "markdown",
      "metadata": {
        "id": "Rya2ZcvbZijo"
      },
      "source": [
        "#### In a random recommend we don't have anything to learn from the data"
      ]
    },
    {
      "cell_type": "code",
      "execution_count": 26,
      "metadata": {
        "id": "5sYSvcxtXbKp"
      },
      "outputs": [],
      "source": [
        "# ndarray to space separed string\n",
        "def array_to_string(array):\n",
        "    return [' '.join(str(y) for y in x) for x in array]"
      ]
    },
    {
      "cell_type": "code",
      "execution_count": 27,
      "metadata": {
        "id": "cRnhTjaKZijo"
      },
      "outputs": [],
      "source": [
        "class RandomRecommender(object):\n",
        "\n",
        "    def fit(self, URM_train):\n",
        "           \n",
        "        self.n_items = URM_train.shape[1]\n",
        "    \n",
        "    \n",
        "    def recommend(self, user_id, at=10):\n",
        "    \n",
        "        recommended_items = np.random.choice(self.n_items, at)\n",
        "\n",
        "        return recommended_items\n",
        "    \n",
        "\n",
        "    def recommend_to_dataframe(self, df_users, at=10):\n",
        "\n",
        "        #for each row of df_users, return list of items, and add to column \"item_list\"\n",
        "        df_users['item_list'] = array_to_string([np.random.choice(self.n_items, at) for u in df_users['user_id']])\n",
        "\n",
        "        return df_users"
      ]
    },
    {
      "cell_type": "code",
      "execution_count": 28,
      "metadata": {
        "id": "z2LAjXxilCn6"
      },
      "outputs": [],
      "source": [
        "randomRecommender = RandomRecommender()\n",
        "randomRecommender.fit(URM_train)"
      ]
    },
    {
      "cell_type": "code",
      "execution_count": 29,
      "metadata": {
        "colab": {
          "base_uri": "https://localhost:8080/"
        },
        "id": "HugMHsbqZijo",
        "outputId": "e9282cfb-7039-4e00-a6dc-db1f8b01b778"
      },
      "outputs": [
        {
          "name": "stdout",
          "output_type": "stream",
          "text": [
            "[15465  5228  8766  4861 17397  8988 10288  9680  8339 15424]\n",
            "[ 3677 12127 15100  5356 10259 11181   634 17008 13240  9144]\n",
            "[15820 16192  7591  1822  1105 13725  1239 10472 16062  8252]\n",
            "[11188 12240  5373 14604 12879 14541 10937 13245  2060 14188]\n",
            "[ 8985  5049 10399 15262 14537  2055  3695 12884 16869 14100]\n",
            "[13927 14642 14651  8679 12210  4870 11264  5928 15419  2357]\n",
            "[ 4253  4949  5944  1089 18034  4040 15438  4912  6877  3044]\n",
            "[ 7170 12802 14819 17731 15157 10098 14502  2568 12349  8353]\n",
            "[ 3282  5992  4747  9951  8486  5768  1346  3755 14395  2210]\n",
            "[ 7806  2050 13596 16794 13080  8217 15882 17369  5326  5644]\n"
          ]
        }
      ],
      "source": [
        "for user_id in range(10):\n",
        "    print(randomRecommender.recommend(user_id, at=10))"
      ]
    },
    {
      "cell_type": "markdown",
      "metadata": {
        "id": "kqXoAne1Zijo"
      },
      "source": [
        "### Put all together in an evaluation function and let's test it!"
      ]
    },
    {
      "cell_type": "code",
      "execution_count": 30,
      "metadata": {
        "id": "mpG3EIq1Zijo"
      },
      "outputs": [],
      "source": [
        "# We pass as paramether the recommender class\n",
        "\n",
        "def evaluate_algorithm(URM_test, recommender_object, at=10):\n",
        "    \n",
        "    cumulative_precision = 0.0\n",
        "    cumulative_recall = 0.0\n",
        "    cumulative_MAP = 0.0\n",
        "    \n",
        "    num_eval = 0\n",
        "\n",
        "\n",
        "    for user_id in range(URM_test.shape[0]):\n",
        "\n",
        "        relevant_items = URM_test.indices[URM_test.indptr[user_id]:URM_test.indptr[user_id+1]]\n",
        "        \n",
        "        if len(relevant_items)>0:\n",
        "            \n",
        "            recommended_items = recommender_object.recommend(user_id, at=at)\n",
        "            num_eval+=1\n",
        "\n",
        "            cumulative_precision += precision(recommended_items, relevant_items)\n",
        "            cumulative_recall += recall(recommended_items, relevant_items)\n",
        "            cumulative_MAP += MAP(recommended_items, relevant_items)\n",
        "            \n",
        "    cumulative_precision /= num_eval\n",
        "    cumulative_recall /= num_eval\n",
        "    cumulative_MAP /= num_eval\n",
        "    \n",
        "    print(\"Recommender results are: Precision = {:.4f}, Recall = {:.4f}, MAP = {:.4f}\".format(\n",
        "        cumulative_precision, cumulative_recall, cumulative_MAP)) \n"
      ]
    },
    {
      "cell_type": "code",
      "execution_count": 31,
      "metadata": {
        "colab": {
          "base_uri": "https://localhost:8080/"
        },
        "id": "mk2YNTkiZijp",
        "outputId": "eaa1d178-a9e1-49d5-a438-cf5d8646418e"
      },
      "outputs": [
        {
          "name": "stdout",
          "output_type": "stream",
          "text": [
            "Recommender results are: Precision = 0.0048, Recall = 0.0006, MAP = 0.0015\n"
          ]
        }
      ],
      "source": [
        "evaluate_algorithm(URM_test, randomRecommender)"
      ]
    },
    {
      "cell_type": "markdown",
      "metadata": {
        "id": "t39WS27HZijp"
      },
      "source": [
        "### So the code works. The performance however..."
      ]
    },
    {
      "cell_type": "markdown",
      "metadata": {
        "id": "_ysSf97ZZijp"
      },
      "source": [
        "# Top Popular recommender\n",
        "\n",
        "#### We recommend to all users the most popular items, that is those with the highest number of interactions\n",
        "#### In this case our model is the item popularity"
      ]
    },
    {
      "cell_type": "code",
      "execution_count": 32,
      "metadata": {
        "id": "zcAIzsUAZijp"
      },
      "outputs": [],
      "source": [
        "class TopPopRecommender(object):\n",
        "\n",
        "    def fit(self, URM_train):\n",
        "\n",
        "        item_popularity = np.ediff1d(URM_all.tocsc().indptr)\n",
        "\n",
        "        # We are not interested in sorting the popularity value,\n",
        "        # but to order the items according to it\n",
        "        self.popular_items = np.argsort(item_popularity)\n",
        "        self.popular_items = np.flip(self.popular_items, axis = 0)\n",
        "    \n",
        "    \n",
        "    def recommend(self, user_id, at=10):\n",
        "    \n",
        "        recommended_items = self.popular_items[0:at]\n",
        "\n",
        "        return recommended_items\n",
        "\n",
        "    def recommend_to_dataframe(self, df_users, at=10):\n",
        "        recommended_items = self.popular_items[0:at]\n",
        "\n",
        "        #for each row of df_users, return list of items, and add to column \"item_list\"\n",
        "        df_users['item_list'] = array_to_string([recommended_items for u in df_users['user_id']])\n",
        "\n",
        "        return df_users"
      ]
    },
    {
      "cell_type": "markdown",
      "metadata": {
        "id": "iZEN1Q1jZijp"
      },
      "source": [
        "### Now train and test our model"
      ]
    },
    {
      "cell_type": "code",
      "execution_count": 33,
      "metadata": {
        "id": "0mFOX0XlZijp"
      },
      "outputs": [],
      "source": [
        "topPopRecommender = TopPopRecommender()\n",
        "topPopRecommender.fit(URM_train)"
      ]
    },
    {
      "cell_type": "code",
      "execution_count": 34,
      "metadata": {
        "colab": {
          "base_uri": "https://localhost:8080/"
        },
        "id": "CMtGpRMuZijp",
        "outputId": "63778283-28eb-4238-8717-949e77595b8c"
      },
      "outputs": [
        {
          "name": "stdout",
          "output_type": "stream",
          "text": [
            "[ 6177  3899  3473  6214  8635 17330 16365 15119  5273 14181]\n",
            "[ 6177  3899  3473  6214  8635 17330 16365 15119  5273 14181]\n",
            "[ 6177  3899  3473  6214  8635 17330 16365 15119  5273 14181]\n",
            "[ 6177  3899  3473  6214  8635 17330 16365 15119  5273 14181]\n",
            "[ 6177  3899  3473  6214  8635 17330 16365 15119  5273 14181]\n",
            "[ 6177  3899  3473  6214  8635 17330 16365 15119  5273 14181]\n",
            "[ 6177  3899  3473  6214  8635 17330 16365 15119  5273 14181]\n",
            "[ 6177  3899  3473  6214  8635 17330 16365 15119  5273 14181]\n",
            "[ 6177  3899  3473  6214  8635 17330 16365 15119  5273 14181]\n",
            "[ 6177  3899  3473  6214  8635 17330 16365 15119  5273 14181]\n"
          ]
        }
      ],
      "source": [
        "for user_id in range(10):\n",
        "    print(topPopRecommender.recommend(user_id, at=10))"
      ]
    },
    {
      "cell_type": "code",
      "execution_count": 35,
      "metadata": {
        "colab": {
          "base_uri": "https://localhost:8080/"
        },
        "id": "eTDo6T0mZijp",
        "outputId": "66deacf8-37de-4dfe-9a19-0d38fd28dc30"
      },
      "outputs": [
        {
          "name": "stdout",
          "output_type": "stream",
          "text": [
            "Recommender results are: Precision = 0.1366, Recall = 0.0254, MAP = 0.0588\n"
          ]
        }
      ],
      "source": [
        "evaluate_algorithm(URM_test, topPopRecommender, at=10)"
      ]
    },
    {
      "cell_type": "markdown",
      "metadata": {
        "id": "yZXcWYLaZijp"
      },
      "source": [
        "### That's better, but we can improve\n",
        "\n",
        "### Remove items already seen by the user. We can either remove them from the recommended item list or we can set them to a score so low that it will cause them to end at the very bottom of all the available items"
      ]
    },
    {
      "cell_type": "code",
      "execution_count": 36,
      "metadata": {
        "id": "ao6wacEHZijp"
      },
      "outputs": [],
      "source": [
        "class TopPopRecommender(object):\n",
        "\n",
        "    def fit(self, URM_train):\n",
        "        \n",
        "        self.URM_train = URM_train\n",
        "\n",
        "        item_popularity = np.ediff1d(URM_all.tocsc().indptr)\n",
        "\n",
        "        # We are not interested in sorting the popularity value,\n",
        "        # but to order the items according to it\n",
        "        self.popular_items = np.argsort(item_popularity)\n",
        "        self.popular_items = np.flip(self.popular_items, axis = 0)\n",
        "    \n",
        "    \n",
        "    def recommend(self, user_id, at=10, remove_seen=True):\n",
        "\n",
        "        if remove_seen:\n",
        "            seen_items = self.URM_train.indices[self.URM_train.indptr[user_id]:self.URM_train.indptr[user_id+1]]\n",
        "            \n",
        "            unseen_items_mask = np.in1d(self.popular_items, seen_items,\n",
        "                                        assume_unique=True, invert = True)\n",
        "\n",
        "            unseen_items = self.popular_items[unseen_items_mask]\n",
        "\n",
        "            recommended_items = unseen_items[0:at]\n",
        "\n",
        "        else:\n",
        "            recommended_items = self.popular_items[0:at]\n",
        "            \n",
        "        return recommended_items\n",
        "\n",
        "    def recommend_to_dataframe(self, df_users, at=10):\n",
        "\n",
        "        #for each row of df_users, return list of items, and add to column \"item_list\"\n",
        "        df_users['item_list'] = array_to_string([self.recommend(id) for id in df_users['user_id']])\n",
        "\n",
        "        return df_users"
      ]
    },
    {
      "cell_type": "code",
      "execution_count": 37,
      "metadata": {
        "colab": {
          "base_uri": "https://localhost:8080/"
        },
        "id": "UVf9GmCqZijp",
        "outputId": "a840fac4-3d2c-4e12-be41-d03dca9ebb9f"
      },
      "outputs": [
        {
          "name": "stdout",
          "output_type": "stream",
          "text": [
            "[ 3899  8635 16365 10865  2665 13134 15778 13914 13229  3768]\n",
            "[ 3473 16365 15119 14181 14358  2665  5925  1259 14868   640]\n",
            "[ 6177  3899  6214 17330 16365 15119  5273 14181 16846 10865]\n",
            "[ 3899  3473  6214  8635 17330 16365 15119  5273 14181 14358]\n",
            "[ 6177  3473 16365  2665 15778 13229  3768  1259 14868  5403]\n",
            "[ 3899  3473  6214  8635 17330 16365 15119  5273 14181 14358]\n",
            "[ 3473  6214  8635 17330  5273 14181 14358 16846  2665 13134]\n",
            "[ 3899  3473  8635 17330 15119  5273 14181 14358 16846 13134]\n",
            "[ 8635 17330 10865  2665 15778  5925 13229  6975  3768  1551]\n",
            "[ 6177  3473  6214  8635 17330 16365 15119 14181 16846 10865]\n"
          ]
        }
      ],
      "source": [
        "topPopRecommender_removeSeen = TopPopRecommender()\n",
        "topPopRecommender_removeSeen.fit(URM_train)\n",
        "\n",
        "for user_id in range(10):\n",
        "    print(topPopRecommender_removeSeen.recommend(user_id, at=10))"
      ]
    },
    {
      "cell_type": "code",
      "execution_count": 38,
      "metadata": {
        "colab": {
          "base_uri": "https://localhost:8080/"
        },
        "id": "BxoH0kK8Zijp",
        "outputId": "8f3a0e11-fdfe-4ab3-cd01-a0229cfd3974"
      },
      "outputs": [
        {
          "name": "stdout",
          "output_type": "stream",
          "text": [
            "Recommender results are: Precision = 0.2835, Recall = 0.0458, MAP = 0.1700\n"
          ]
        }
      ],
      "source": [
        "evaluate_algorithm(URM_test, topPopRecommender_removeSeen)"
      ]
    },
    {
      "cell_type": "markdown",
      "metadata": {
        "id": "upSshFqrZijp"
      },
      "source": [
        "#### Simple but effective. Always remove seen items if your purpose is to recommend \"new\" ones"
      ]
    },
    {
      "cell_type": "markdown",
      "metadata": {
        "id": "4zLfiRdkgFX7"
      },
      "source": [
        "# Predict"
      ]
    },
    {
      "cell_type": "markdown",
      "metadata": {
        "id": "62nqcEuSaoyS"
      },
      "source": [
        "## Random test"
      ]
    },
    {
      "cell_type": "code",
      "execution_count": 39,
      "metadata": {
        "id": "ykIQ5qehgy9-"
      },
      "outputs": [],
      "source": [
        "data_pred = data_path + \"data_target_users_test.csv\""
      ]
    },
    {
      "cell_type": "code",
      "execution_count": 40,
      "metadata": {
        "id": "JNSxqLIbWoiH"
      },
      "outputs": [],
      "source": [
        "URM_pred = pd.read_csv(data_pred,\n",
        "                                dtype={0:int, 1:int, 2:int})"
      ]
    },
    {
      "cell_type": "code",
      "execution_count": 41,
      "metadata": {
        "id": "EX_5j5X3XJoS"
      },
      "outputs": [],
      "source": [
        "randomRecommender.fit(URM_all)"
      ]
    },
    {
      "cell_type": "code",
      "execution_count": 42,
      "metadata": {
        "id": "6TRDbUDvXOdZ"
      },
      "outputs": [],
      "source": [
        "df_pred = randomRecommender.recommend_to_dataframe(URM_pred)"
      ]
    },
    {
      "cell_type": "code",
      "execution_count": 43,
      "metadata": {
        "colab": {
          "base_uri": "https://localhost:8080/",
          "height": 419
        },
        "id": "Ik_NCxHkXSnx",
        "outputId": "65f4d27d-5196-43fe-c51b-6fae96ed931d"
      },
      "outputs": [
        {
          "data": {
            "text/html": [
              "<div>\n",
              "<style scoped>\n",
              "    .dataframe tbody tr th:only-of-type {\n",
              "        vertical-align: middle;\n",
              "    }\n",
              "\n",
              "    .dataframe tbody tr th {\n",
              "        vertical-align: top;\n",
              "    }\n",
              "\n",
              "    .dataframe thead th {\n",
              "        text-align: right;\n",
              "    }\n",
              "</style>\n",
              "<table border=\"1\" class=\"dataframe\">\n",
              "  <thead>\n",
              "    <tr style=\"text-align: right;\">\n",
              "      <th></th>\n",
              "      <th>user_id</th>\n",
              "      <th>item_list</th>\n",
              "    </tr>\n",
              "  </thead>\n",
              "  <tbody>\n",
              "    <tr>\n",
              "      <th>0</th>\n",
              "      <td>0</td>\n",
              "      <td>8513 1598 8288 13897 16770 15245 4721 9675 121...</td>\n",
              "    </tr>\n",
              "    <tr>\n",
              "      <th>1</th>\n",
              "      <td>1</td>\n",
              "      <td>1280 9721 14359 5925 7466 11409 6611 697 3478 ...</td>\n",
              "    </tr>\n",
              "    <tr>\n",
              "      <th>2</th>\n",
              "      <td>2</td>\n",
              "      <td>10368 8582 928 1713 10443 6287 16890 9723 7603...</td>\n",
              "    </tr>\n",
              "    <tr>\n",
              "      <th>3</th>\n",
              "      <td>3</td>\n",
              "      <td>12091 6859 5625 8834 7833 12417 17925 12717 90...</td>\n",
              "    </tr>\n",
              "    <tr>\n",
              "      <th>4</th>\n",
              "      <td>4</td>\n",
              "      <td>5275 2923 17620 5346 15931 4415 3413 15505 169...</td>\n",
              "    </tr>\n",
              "    <tr>\n",
              "      <th>...</th>\n",
              "      <td>...</td>\n",
              "      <td>...</td>\n",
              "    </tr>\n",
              "    <tr>\n",
              "      <th>13645</th>\n",
              "      <td>13645</td>\n",
              "      <td>15992 17295 10644 2172 13292 6285 10377 9737 4...</td>\n",
              "    </tr>\n",
              "    <tr>\n",
              "      <th>13646</th>\n",
              "      <td>13646</td>\n",
              "      <td>14712 14764 6759 17968 1054 8578 3447 5348 689...</td>\n",
              "    </tr>\n",
              "    <tr>\n",
              "      <th>13647</th>\n",
              "      <td>13647</td>\n",
              "      <td>11958 8509 13036 10269 10187 13361 5544 16339 ...</td>\n",
              "    </tr>\n",
              "    <tr>\n",
              "      <th>13648</th>\n",
              "      <td>13648</td>\n",
              "      <td>2855 17170 7320 6852 4608 15257 13396 4624 162...</td>\n",
              "    </tr>\n",
              "    <tr>\n",
              "      <th>13649</th>\n",
              "      <td>13649</td>\n",
              "      <td>12798 10791 16096 1800 28 488 9922 16153 9985 ...</td>\n",
              "    </tr>\n",
              "  </tbody>\n",
              "</table>\n",
              "<p>13650 rows × 2 columns</p>\n",
              "</div>"
            ],
            "text/plain": [
              "       user_id                                          item_list\n",
              "0            0  8513 1598 8288 13897 16770 15245 4721 9675 121...\n",
              "1            1  1280 9721 14359 5925 7466 11409 6611 697 3478 ...\n",
              "2            2  10368 8582 928 1713 10443 6287 16890 9723 7603...\n",
              "3            3  12091 6859 5625 8834 7833 12417 17925 12717 90...\n",
              "4            4  5275 2923 17620 5346 15931 4415 3413 15505 169...\n",
              "...        ...                                                ...\n",
              "13645    13645  15992 17295 10644 2172 13292 6285 10377 9737 4...\n",
              "13646    13646  14712 14764 6759 17968 1054 8578 3447 5348 689...\n",
              "13647    13647  11958 8509 13036 10269 10187 13361 5544 16339 ...\n",
              "13648    13648  2855 17170 7320 6852 4608 15257 13396 4624 162...\n",
              "13649    13649  12798 10791 16096 1800 28 488 9922 16153 9985 ...\n",
              "\n",
              "[13650 rows x 2 columns]"
            ]
          },
          "execution_count": 43,
          "metadata": {},
          "output_type": "execute_result"
        }
      ],
      "source": [
        "df_pred"
      ]
    },
    {
      "cell_type": "code",
      "execution_count": 44,
      "metadata": {
        "id": "un3u36Rjgy9_"
      },
      "outputs": [],
      "source": [
        "path = data_path + 'random.csv'\n",
        "#if not os.path.exists(path):\n",
        "df_pred.to_csv(path, index=False)"
      ]
    },
    {
      "cell_type": "markdown",
      "metadata": {
        "id": "vPF9fRcLa4Dl"
      },
      "source": [
        "## TopPop test"
      ]
    },
    {
      "cell_type": "code",
      "execution_count": 45,
      "metadata": {
        "id": "v2LxM6imhIVL"
      },
      "outputs": [],
      "source": [
        "topPopRecommender.fit(URM_all)"
      ]
    },
    {
      "cell_type": "code",
      "execution_count": 46,
      "metadata": {
        "id": "aZgtp7rvWE7n"
      },
      "outputs": [],
      "source": [
        "df_pred_top = topPopRecommender.recommend_to_dataframe(URM_pred)"
      ]
    },
    {
      "cell_type": "code",
      "execution_count": 47,
      "metadata": {
        "colab": {
          "base_uri": "https://localhost:8080/",
          "height": 419
        },
        "id": "Hpj5DbxgCL-H",
        "outputId": "8fb728f5-a316-4a9a-8308-f6bea6be92b6"
      },
      "outputs": [
        {
          "data": {
            "text/html": [
              "<div>\n",
              "<style scoped>\n",
              "    .dataframe tbody tr th:only-of-type {\n",
              "        vertical-align: middle;\n",
              "    }\n",
              "\n",
              "    .dataframe tbody tr th {\n",
              "        vertical-align: top;\n",
              "    }\n",
              "\n",
              "    .dataframe thead th {\n",
              "        text-align: right;\n",
              "    }\n",
              "</style>\n",
              "<table border=\"1\" class=\"dataframe\">\n",
              "  <thead>\n",
              "    <tr style=\"text-align: right;\">\n",
              "      <th></th>\n",
              "      <th>user_id</th>\n",
              "      <th>item_list</th>\n",
              "    </tr>\n",
              "  </thead>\n",
              "  <tbody>\n",
              "    <tr>\n",
              "      <th>0</th>\n",
              "      <td>0</td>\n",
              "      <td>6177 3899 3473 6214 8635 17330 16365 15119 527...</td>\n",
              "    </tr>\n",
              "    <tr>\n",
              "      <th>1</th>\n",
              "      <td>1</td>\n",
              "      <td>6177 3899 3473 6214 8635 17330 16365 15119 527...</td>\n",
              "    </tr>\n",
              "    <tr>\n",
              "      <th>2</th>\n",
              "      <td>2</td>\n",
              "      <td>6177 3899 3473 6214 8635 17330 16365 15119 527...</td>\n",
              "    </tr>\n",
              "    <tr>\n",
              "      <th>3</th>\n",
              "      <td>3</td>\n",
              "      <td>6177 3899 3473 6214 8635 17330 16365 15119 527...</td>\n",
              "    </tr>\n",
              "    <tr>\n",
              "      <th>4</th>\n",
              "      <td>4</td>\n",
              "      <td>6177 3899 3473 6214 8635 17330 16365 15119 527...</td>\n",
              "    </tr>\n",
              "    <tr>\n",
              "      <th>...</th>\n",
              "      <td>...</td>\n",
              "      <td>...</td>\n",
              "    </tr>\n",
              "    <tr>\n",
              "      <th>13645</th>\n",
              "      <td>13645</td>\n",
              "      <td>6177 3899 3473 6214 8635 17330 16365 15119 527...</td>\n",
              "    </tr>\n",
              "    <tr>\n",
              "      <th>13646</th>\n",
              "      <td>13646</td>\n",
              "      <td>6177 3899 3473 6214 8635 17330 16365 15119 527...</td>\n",
              "    </tr>\n",
              "    <tr>\n",
              "      <th>13647</th>\n",
              "      <td>13647</td>\n",
              "      <td>6177 3899 3473 6214 8635 17330 16365 15119 527...</td>\n",
              "    </tr>\n",
              "    <tr>\n",
              "      <th>13648</th>\n",
              "      <td>13648</td>\n",
              "      <td>6177 3899 3473 6214 8635 17330 16365 15119 527...</td>\n",
              "    </tr>\n",
              "    <tr>\n",
              "      <th>13649</th>\n",
              "      <td>13649</td>\n",
              "      <td>6177 3899 3473 6214 8635 17330 16365 15119 527...</td>\n",
              "    </tr>\n",
              "  </tbody>\n",
              "</table>\n",
              "<p>13650 rows × 2 columns</p>\n",
              "</div>"
            ],
            "text/plain": [
              "       user_id                                          item_list\n",
              "0            0  6177 3899 3473 6214 8635 17330 16365 15119 527...\n",
              "1            1  6177 3899 3473 6214 8635 17330 16365 15119 527...\n",
              "2            2  6177 3899 3473 6214 8635 17330 16365 15119 527...\n",
              "3            3  6177 3899 3473 6214 8635 17330 16365 15119 527...\n",
              "4            4  6177 3899 3473 6214 8635 17330 16365 15119 527...\n",
              "...        ...                                                ...\n",
              "13645    13645  6177 3899 3473 6214 8635 17330 16365 15119 527...\n",
              "13646    13646  6177 3899 3473 6214 8635 17330 16365 15119 527...\n",
              "13647    13647  6177 3899 3473 6214 8635 17330 16365 15119 527...\n",
              "13648    13648  6177 3899 3473 6214 8635 17330 16365 15119 527...\n",
              "13649    13649  6177 3899 3473 6214 8635 17330 16365 15119 527...\n",
              "\n",
              "[13650 rows x 2 columns]"
            ]
          },
          "execution_count": 47,
          "metadata": {},
          "output_type": "execute_result"
        }
      ],
      "source": [
        "df_pred_top"
      ]
    },
    {
      "cell_type": "code",
      "execution_count": 48,
      "metadata": {
        "id": "MRk7M-hWWE7s"
      },
      "outputs": [],
      "source": [
        "path = data_path + 'top.csv'\n",
        "#if not os.path.exists(path):\n",
        "df_pred_top.to_csv(path, index=False)"
      ]
    },
    {
      "cell_type": "markdown",
      "metadata": {
        "id": "O3lVt6pPauQk"
      },
      "source": [
        "## TopPopRemoveSeen test"
      ]
    },
    {
      "cell_type": "code",
      "execution_count": 49,
      "metadata": {
        "id": "oUG8zkWGctGx"
      },
      "outputs": [],
      "source": [
        "URM_all_csr = URM_all.tocsr()"
      ]
    },
    {
      "cell_type": "code",
      "execution_count": 50,
      "metadata": {
        "id": "H1y-fUudauQl"
      },
      "outputs": [],
      "source": [
        "topPopRecommender_removeSeen.fit(URM_all_csr)"
      ]
    },
    {
      "cell_type": "code",
      "execution_count": 51,
      "metadata": {
        "id": "8K82LmWwauQl"
      },
      "outputs": [],
      "source": [
        "df_pred_top_removeseen = topPopRecommender_removeSeen.recommend_to_dataframe(URM_pred)"
      ]
    },
    {
      "cell_type": "code",
      "execution_count": 52,
      "metadata": {
        "colab": {
          "base_uri": "https://localhost:8080/",
          "height": 419
        },
        "id": "ZS4OX57kauQl",
        "outputId": "c98d616a-0f1a-4ab4-bda9-810f3307316e"
      },
      "outputs": [
        {
          "data": {
            "text/html": [
              "<div>\n",
              "<style scoped>\n",
              "    .dataframe tbody tr th:only-of-type {\n",
              "        vertical-align: middle;\n",
              "    }\n",
              "\n",
              "    .dataframe tbody tr th {\n",
              "        vertical-align: top;\n",
              "    }\n",
              "\n",
              "    .dataframe thead th {\n",
              "        text-align: right;\n",
              "    }\n",
              "</style>\n",
              "<table border=\"1\" class=\"dataframe\">\n",
              "  <thead>\n",
              "    <tr style=\"text-align: right;\">\n",
              "      <th></th>\n",
              "      <th>user_id</th>\n",
              "      <th>item_list</th>\n",
              "    </tr>\n",
              "  </thead>\n",
              "  <tbody>\n",
              "    <tr>\n",
              "      <th>0</th>\n",
              "      <td>0</td>\n",
              "      <td>3899 8635 16365 2665 13134 15778 13914 13229 3...</td>\n",
              "    </tr>\n",
              "    <tr>\n",
              "      <th>1</th>\n",
              "      <td>1</td>\n",
              "      <td>3473 16365 15119 14358 2665 14868 640 8207 134...</td>\n",
              "    </tr>\n",
              "    <tr>\n",
              "      <th>2</th>\n",
              "      <td>2</td>\n",
              "      <td>6177 17330 16365 15119 5273 14181 16846 10865 ...</td>\n",
              "    </tr>\n",
              "    <tr>\n",
              "      <th>3</th>\n",
              "      <td>3</td>\n",
              "      <td>3899 3473 6214 8635 17330 16365 15119 5273 141...</td>\n",
              "    </tr>\n",
              "    <tr>\n",
              "      <th>4</th>\n",
              "      <td>4</td>\n",
              "      <td>6177 3473 2665 15778 1259 14868 5403 6011 6652...</td>\n",
              "    </tr>\n",
              "    <tr>\n",
              "      <th>...</th>\n",
              "      <td>...</td>\n",
              "      <td>...</td>\n",
              "    </tr>\n",
              "    <tr>\n",
              "      <th>13645</th>\n",
              "      <td>13645</td>\n",
              "      <td>6177 14358 2665 15778 13914 6975 3768 1259 148...</td>\n",
              "    </tr>\n",
              "    <tr>\n",
              "      <th>13646</th>\n",
              "      <td>13646</td>\n",
              "      <td>3473 8635 5273 13134 13229 1551 1259 14868 113...</td>\n",
              "    </tr>\n",
              "    <tr>\n",
              "      <th>13647</th>\n",
              "      <td>13647</td>\n",
              "      <td>8635 17330 5273 14181 16846 2665 13134 5925 13...</td>\n",
              "    </tr>\n",
              "    <tr>\n",
              "      <th>13648</th>\n",
              "      <td>13648</td>\n",
              "      <td>6177 6214 8635 15119 5273 14181 14358 13134 59...</td>\n",
              "    </tr>\n",
              "    <tr>\n",
              "      <th>13649</th>\n",
              "      <td>13649</td>\n",
              "      <td>17330 16365 15119 5273 14358 2665 6975 3768 11...</td>\n",
              "    </tr>\n",
              "  </tbody>\n",
              "</table>\n",
              "<p>13650 rows × 2 columns</p>\n",
              "</div>"
            ],
            "text/plain": [
              "       user_id                                          item_list\n",
              "0            0  3899 8635 16365 2665 13134 15778 13914 13229 3...\n",
              "1            1  3473 16365 15119 14358 2665 14868 640 8207 134...\n",
              "2            2  6177 17330 16365 15119 5273 14181 16846 10865 ...\n",
              "3            3  3899 3473 6214 8635 17330 16365 15119 5273 141...\n",
              "4            4  6177 3473 2665 15778 1259 14868 5403 6011 6652...\n",
              "...        ...                                                ...\n",
              "13645    13645  6177 14358 2665 15778 13914 6975 3768 1259 148...\n",
              "13646    13646  3473 8635 5273 13134 13229 1551 1259 14868 113...\n",
              "13647    13647  8635 17330 5273 14181 16846 2665 13134 5925 13...\n",
              "13648    13648  6177 6214 8635 15119 5273 14181 14358 13134 59...\n",
              "13649    13649  17330 16365 15119 5273 14358 2665 6975 3768 11...\n",
              "\n",
              "[13650 rows x 2 columns]"
            ]
          },
          "execution_count": 52,
          "metadata": {},
          "output_type": "execute_result"
        }
      ],
      "source": [
        "df_pred_top_removeseen"
      ]
    },
    {
      "cell_type": "code",
      "execution_count": 53,
      "metadata": {
        "id": "n0PjTD9KauQl"
      },
      "outputs": [],
      "source": [
        "path = data_path + 'top-removeseen.csv'\n",
        "#if not os.path.exists(path):\n",
        "df_pred_top_removeseen.to_csv(path, index=False)"
      ]
    }
  ],
  "metadata": {
    "colab": {
      "collapsed_sections": [
        "t39WS27HZijp"
      ],
      "name": "basic recommender.ipynb",
      "provenance": []
    },
    "kernelspec": {
      "display_name": "Python 3",
      "language": "python",
      "name": "python3"
    },
    "language_info": {
      "codemirror_mode": {
        "name": "ipython",
        "version": 3
      },
      "file_extension": ".py",
      "mimetype": "text/x-python",
      "name": "python",
      "nbconvert_exporter": "python",
      "pygments_lexer": "ipython3",
      "version": "3.8.8"
    }
  },
  "nbformat": 4,
  "nbformat_minor": 0
}
